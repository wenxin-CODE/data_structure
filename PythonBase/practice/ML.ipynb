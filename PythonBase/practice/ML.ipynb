{
 "cells": [
  {
   "cell_type": "code",
   "execution_count": 1,
   "metadata": {},
   "outputs": [
    {
     "name": "stdout",
     "output_type": "stream",
     "text": [
      "0 [[2.5 0.5 2.2 1.9 3.1 2.3 2.  1.  1.5 1.1]] 1.81\n",
      "1 [[2.4 0.7 2.9 2.2 3.  2.7 1.6 1.1 1.6 0.9]] 1.9100000000000001\n"
     ]
    },
    {
     "data": {
      "text/plain": [
       "matrix([[-0.82797019,  1.77758033, -0.99219749, -0.27421042, -1.67580142,\n",
       "         -0.9129491 ,  0.09910944,  1.14457216,  0.43804614,  1.22382056]])"
      ]
     },
     "execution_count": 1,
     "metadata": {},
     "output_type": "execute_result"
    }
   ],
   "source": [
    "import numpy as np\n",
    "\n",
    "from numpy import linalg \n",
    "dataset = [[2.5,2.4],\n",
    "           [0.5,0.7],\n",
    "           [2.2,2.9],\n",
    "           [1.9,2.2],\n",
    "           [3.1,3.0],\n",
    "           [2.3,2.7],\n",
    "           [2,1.6],\n",
    "           [1,1.1],\n",
    "           [1.5,1.6],\n",
    "           [1.1,0.9]]\n",
    "dataset = np.matrix(dataset, dtype='float64').T\n",
    "\n",
    "for (index, line) in enumerate(dataset):\n",
    "    print(index,line,np.mean(line))\n",
    "    dataset[index] -= np.mean(line)\n",
    "    # np.std(line, ddof = 1)即样本标准差(分母为n - 1)\n",
    "    # dataset[index] /= np.std(line, ddof = 1)\n",
    "Cov = np.cov(dataset)\n",
    "# 求特征值和特征向量\n",
    "eigs, vectors = linalg.eig(Cov)\n",
    "data = []\n",
    "for i in range(len(eigs)):\n",
    "    data.append((eigs[i], vectors[:, i].T))\n",
    "# 按照特征值从大到小排序\n",
    "data.sort(key = lambda x: x[0], reverse = True)\n",
    "np.dot(dataset.T,data[0][1].T)"
   ]
  },
  {
   "cell_type": "markdown",
   "metadata": {},
   "source": [
    "PCA主成分分析"
   ]
  }
 ],
 "metadata": {
  "kernelspec": {
   "display_name": "d2l",
   "language": "python",
   "name": "python3"
  },
  "language_info": {
   "codemirror_mode": {
    "name": "ipython",
    "version": 3
   },
   "file_extension": ".py",
   "mimetype": "text/x-python",
   "name": "python",
   "nbconvert_exporter": "python",
   "pygments_lexer": "ipython3",
   "version": "3.8.15"
  },
  "orig_nbformat": 4
 },
 "nbformat": 4,
 "nbformat_minor": 2
}
