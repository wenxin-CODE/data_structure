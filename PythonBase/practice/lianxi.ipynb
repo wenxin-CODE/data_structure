{
 "cells": [
  {
   "cell_type": "code",
   "execution_count": 1,
   "metadata": {
    "collapsed": true
   },
   "outputs": [],
   "source": [
    "#进制转换\n",
    "def fun():\n",
    "    num = int(input('输入一个整数'))\n",
    "    print('%s的二进制为：%s' % (num,bin(num)))\n",
    "    print('{0}的二进制为：{1}'.format(num,bin(num)))\n",
    "    print(f'{num}的二进制为：{bin(num)}')\n",
    "    print(\"--------------------------------\")\n",
    "    print(f'{num}的八进制为：{oct(num)}')\n",
    "    print(f'{num}的十六进制为：{hex(num)}')\n",
    "\n"
   ]
  },
  {
   "cell_type": "code",
   "execution_count": 2,
   "metadata": {},
   "outputs": [
    {
     "name": "stdout",
     "output_type": "stream",
     "text": [
      "4的二进制为：0b100\n",
      "4的二进制为：0b100\n",
      "4的二进制为：0b100\n",
      "--------------------------------\n",
      "4的八进制为：0o4\n",
      "4的十六进制为：0x4\n"
     ]
    }
   ],
   "source": [
    "# 处理异常\n",
    "while True:\n",
    "    try:\n",
    "        fun()\n",
    "        break\n",
    "    except:\n",
    "        print(\"输入必须为整数\")"
   ]
  },
  {
   "cell_type": "code",
   "execution_count": 4,
   "metadata": {},
   "outputs": [],
   "source": [
    "# python使用unicode编码，包含中英文，以及一些符号\n",
    "# print逗号连接是空格，加号连接没空格\n",
    "\n",
    "\n",
    "def one():\n",
    "    # 输出到文件,w是覆盖，a是追加\n",
    "    # fp = open('text1.txt','w')\n",
    "    # print(\"good good study\",file=fp)\n",
    "    # print(\"good good study\", file=fp)\n",
    "    # print(\"good good study\", file=fp)\n",
    "    # fp.close()\n",
    "\n",
    "    # 这里不用close\n",
    "    with open('text1.txt','a') as file:\n",
    "        file.write('day day up up')\n",
    "\n",
    "if __name__=='__main__':\n",
    "    one()\n"
   ]
  },
  {
   "cell_type": "code",
   "execution_count": 3,
   "metadata": {},
   "outputs": [
    {
     "name": "stdout",
     "output_type": "stream",
     "text": [
      "输入错误\n"
     ]
    }
   ],
   "source": [
    "pwd = input(\"请输入纯数字\")\n",
    "# if pwd.isdigit():\n",
    "#     print(\"OK\")\n",
    "# else:\n",
    "#     print(\"输入错误\")\n",
    "    \n",
    "# ==============================\n",
    "s = \"OK\" if pwd.isdigit() else \"输入错误\"\n",
    "print(s)"
   ]
  },
  {
   "cell_type": "code",
   "execution_count": 12,
   "metadata": {},
   "outputs": [
    {
     "name": "stdout",
     "output_type": "stream",
     "text": [
      "c\n"
     ]
    }
   ],
   "source": [
    "import string\n",
    "\n",
    "print(chr(99))"
   ]
  },
  {
   "cell_type": "code",
   "execution_count": 16,
   "metadata": {},
   "outputs": [
    {
     "name": "stdout",
     "output_type": "stream",
     "text": [
      "继续\n",
      "踩雷了\n"
     ]
    }
   ],
   "source": [
    "for i in range(3):\n",
    "    # 输入的是字符串\n",
    "    a = input(\"输入数字\")\n",
    "    if a == '10':\n",
    "        print(\"踩雷了\")\n",
    "        break\n",
    "    else:\n",
    "        print(\"继续\")\n",
    "# 没执行break，才执行下面的else \n",
    "else:\n",
    "    print(\"success\")"
   ]
  },
  {
   "cell_type": "code",
   "execution_count": 18,
   "metadata": {},
   "outputs": [
    {
     "name": "stdout",
     "output_type": "stream",
     "text": [
      "0---1\n",
      "1---3\n",
      "2---5\n",
      "3---7\n",
      "4---9\n"
     ]
    }
   ],
   "source": [
    "list = [1,3,5,7,9]\n",
    "\n",
    "# enumerate同时操作索引和值\n",
    "for index,num in enumerate(list):\n",
    "    print(f\"{index}\" +\"---\"+ f\"{num}\")"
   ]
  },
  {
   "cell_type": "code",
   "execution_count": 21,
   "metadata": {},
   "outputs": [
    {
     "name": "stdout",
     "output_type": "stream",
     "text": [
      "5\n",
      "4\n",
      "3\n",
      "2\n",
      "1\n"
     ]
    }
   ],
   "source": [
    "a = [1,2,3,4,5]\n",
    "# 倒序输出，最后一个-1是步长\n",
    "for i in range(len(a)-1,-1,-1):\n",
    "    print(a[i])\n",
    "    "
   ]
  }
 ],
 "metadata": {
  "kernelspec": {
   "display_name": "Python 3.9.15 ('base')",
   "language": "python",
   "name": "python3"
  },
  "language_info": {
   "codemirror_mode": {
    "name": "ipython",
    "version": 3
   },
   "file_extension": ".py",
   "mimetype": "text/x-python",
   "name": "python",
   "nbconvert_exporter": "python",
   "pygments_lexer": "ipython3",
   "version": "3.9.15"
  },
  "vscode": {
   "interpreter": {
    "hash": "7758e92e9a61d7a3490898707f7eeb937c85e9d1e8d4e877cc6c187218f226d5"
   }
  }
 },
 "nbformat": 4,
 "nbformat_minor": 0
}
