{
 "cells": [
  {
   "cell_type": "code",
   "execution_count": 1,
   "metadata": {
    "collapsed": true
   },
   "outputs": [],
   "source": [
    "#进制转换\n",
    "def fun():\n",
    "    num = int(input('输入一个整数'))\n",
    "    print('%s的二进制为：%s' % (num,bin(num)))\n",
    "    print('{0}的二进制为：{1}'.format(num,bin(num)))\n",
    "    print(f'{num}的二进制为：{bin(num)}')\n",
    "    print(\"--------------------------------\")\n",
    "    print(f'{num}的八进制为：{oct(num)}')\n",
    "    print(f'{num}的十六进制为：{hex(num)}')\n",
    "\n"
   ]
  },
  {
   "cell_type": "code",
   "execution_count": 2,
   "metadata": {},
   "outputs": [
    {
     "name": "stdout",
     "output_type": "stream",
     "text": [
      "4的二进制为：0b100\n",
      "4的二进制为：0b100\n",
      "4的二进制为：0b100\n",
      "--------------------------------\n",
      "4的八进制为：0o4\n",
      "4的十六进制为：0x4\n"
     ]
    }
   ],
   "source": [
    "# 处理异常\n",
    "while True:\n",
    "    try:\n",
    "        fun()\n",
    "        break\n",
    "    except:\n",
    "        print(\"输入必须为整数\")"
   ]
  }
 ],
 "metadata": {
  "kernelspec": {
   "display_name": "Python 3.9.15 ('base')",
   "language": "python",
   "name": "python3"
  },
  "language_info": {
   "codemirror_mode": {
    "name": "ipython",
    "version": 3
   },
   "file_extension": ".py",
   "mimetype": "text/x-python",
   "name": "python",
   "nbconvert_exporter": "python",
   "pygments_lexer": "ipython3",
   "version": "3.9.15"
  },
  "vscode": {
   "interpreter": {
    "hash": "7758e92e9a61d7a3490898707f7eeb937c85e9d1e8d4e877cc6c187218f226d5"
   }
  }
 },
 "nbformat": 4,
 "nbformat_minor": 0
}
