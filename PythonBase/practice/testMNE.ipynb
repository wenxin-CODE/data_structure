{
 "cells": [
  {
   "cell_type": "code",
   "execution_count": 11,
   "metadata": {},
   "outputs": [
    {
     "name": "stdout",
     "output_type": "stream",
     "text": [
      "Extracting EDF parameters from F:\\data\\edf\\1_0002.edf...\n",
      "EDF file detected\n",
      "Setting channel info structure...\n",
      "Creating raw.info structure...\n"
     ]
    },
    {
     "name": "stderr",
     "output_type": "stream",
     "text": [
      "C:\\Users\\20114\\AppData\\Local\\Temp\\ipykernel_45076\\1157968852.py:7: RuntimeWarning: Limited 2 annotation(s) that were expanding outside the data range.\n",
      "  raw_data = mne.io.read_raw_edf(data_path, preload=False)\n"
     ]
    }
   ],
   "source": [
    "import mne\n",
    "import json\n",
    "import numpy as np\n",
    "\n",
    "data_path = 'F:\\\\data\\\\edf\\\\1_0002.edf'   # 存放数据的具体位置，需要改成自己数据存放的地方\n",
    "signal_name  = ['POS']     # 所选的通道名称\n",
    "raw_data = mne.io.read_raw_edf(data_path, preload=False)   \n",
    "# preload: 如果为True，则数据将被预加载到内存中(这样可以加快数据的索引), 默认为False\n",
    "raw_data.pick_channels(signal_name)\n",
    "eeg = raw_data.to_data_frame()   # 将读取的数据转换成pandas的DataFrame数据格式\n",
    "eeg = eeg.to_numpy()  #转换成numpy的特有数据格式\n",
    "# print(type(eeg))\n",
    "np.save(\"F:\\\\data\\\\edf\\\\split\\\\body.npy\",eeg)  #保存为npy文件"
   ]
  },
  {
   "cell_type": "code",
   "execution_count": 7,
   "metadata": {},
   "outputs": [
    {
     "name": "stdout",
     "output_type": "stream",
     "text": [
      "signal numbers: 50\n",
      "Labels: ['C3', 'C4', 'O1', 'O2', 'A1', 'A2', 'Cz', 'F3', 'F4', 'F7', 'F8', 'Fz', 'Fp1', 'Fp2', 'Fpz', 'P3', 'P4', 'Pz', 'T3', 'T4', 'T5', 'T6', 'LOC', 'ROC', 'CHIN1', 'CHIN2', 'ECGL', 'ECGR', 'LAT1', 'LAT2', 'RAT1', 'RAT2', 'CHEST', 'ABD', 'FLOW', 'SNORE', 'DIF5', 'DIF6', 'POS', 'DC2', 'DC3', 'DC4', 'DC5', 'DC6', 'DC7', 'DC8', 'DC9', 'DC10', 'OSAT', 'PR']\n",
      "=======================================\n",
      "Headers: [{'label': 'C3', 'dimension': 'uV', 'sample_rate': 512.0, 'sample_frequency': 512.0, 'physical_max': -10800.0, 'physical_min': 10800.0, 'digital_max': 32767, 'digital_min': -32768, 'prefilter': '', 'transducer': ''}, {'label': 'C4', 'dimension': 'uV', 'sample_rate': 512.0, 'sample_frequency': 512.0, 'physical_max': -10800.0, 'physical_min': 10800.0, 'digital_max': 32767, 'digital_min': -32768, 'prefilter': '', 'transducer': ''}, {'label': 'O1', 'dimension': 'uV', 'sample_rate': 512.0, 'sample_frequency': 512.0, 'physical_max': -10800.0, 'physical_min': 10800.0, 'digital_max': 32767, 'digital_min': -32768, 'prefilter': '', 'transducer': ''}, {'label': 'O2', 'dimension': 'uV', 'sample_rate': 512.0, 'sample_frequency': 512.0, 'physical_max': -10800.0, 'physical_min': 10800.0, 'digital_max': 32767, 'digital_min': -32768, 'prefilter': '', 'transducer': ''}, {'label': 'A1', 'dimension': 'uV', 'sample_rate': 512.0, 'sample_frequency': 512.0, 'physical_max': -10800.0, 'physical_min': 10800.0, 'digital_max': 32767, 'digital_min': -32768, 'prefilter': '', 'transducer': ''}, {'label': 'A2', 'dimension': 'uV', 'sample_rate': 512.0, 'sample_frequency': 512.0, 'physical_max': -10800.0, 'physical_min': 10800.0, 'digital_max': 32767, 'digital_min': -32768, 'prefilter': '', 'transducer': ''}, {'label': 'Cz', 'dimension': 'uV', 'sample_rate': 512.0, 'sample_frequency': 512.0, 'physical_max': -10800.0, 'physical_min': 10800.0, 'digital_max': 32767, 'digital_min': -32768, 'prefilter': '', 'transducer': ''}, {'label': 'F3', 'dimension': 'uV', 'sample_rate': 512.0, 'sample_frequency': 512.0, 'physical_max': -10800.0, 'physical_min': 10800.0, 'digital_max': 32767, 'digital_min': -32768, 'prefilter': '', 'transducer': ''}, {'label': 'F4', 'dimension': 'uV', 'sample_rate': 512.0, 'sample_frequency': 512.0, 'physical_max': -10800.0, 'physical_min': 10800.0, 'digital_max': 32767, 'digital_min': -32768, 'prefilter': '', 'transducer': ''}, {'label': 'F7', 'dimension': 'uV', 'sample_rate': 512.0, 'sample_frequency': 512.0, 'physical_max': -10800.0, 'physical_min': 10800.0, 'digital_max': 32767, 'digital_min': -32768, 'prefilter': '', 'transducer': ''}, {'label': 'F8', 'dimension': 'uV', 'sample_rate': 512.0, 'sample_frequency': 512.0, 'physical_max': -10800.0, 'physical_min': 10800.0, 'digital_max': 32767, 'digital_min': -32768, 'prefilter': '', 'transducer': ''}, {'label': 'Fz', 'dimension': 'uV', 'sample_rate': 512.0, 'sample_frequency': 512.0, 'physical_max': -10800.0, 'physical_min': 10800.0, 'digital_max': 32767, 'digital_min': -32768, 'prefilter': '', 'transducer': ''}, {'label': 'Fp1', 'dimension': 'uV', 'sample_rate': 512.0, 'sample_frequency': 512.0, 'physical_max': -10800.0, 'physical_min': 10800.0, 'digital_max': 32767, 'digital_min': -32768, 'prefilter': '', 'transducer': ''}, {'label': 'Fp2', 'dimension': 'uV', 'sample_rate': 512.0, 'sample_frequency': 512.0, 'physical_max': -10800.0, 'physical_min': 10800.0, 'digital_max': 32767, 'digital_min': -32768, 'prefilter': '', 'transducer': ''}, {'label': 'Fpz', 'dimension': 'uV', 'sample_rate': 512.0, 'sample_frequency': 512.0, 'physical_max': -10800.0, 'physical_min': 10800.0, 'digital_max': 32767, 'digital_min': -32768, 'prefilter': '', 'transducer': ''}, {'label': 'P3', 'dimension': 'uV', 'sample_rate': 512.0, 'sample_frequency': 512.0, 'physical_max': -10800.0, 'physical_min': 10800.0, 'digital_max': 32767, 'digital_min': -32768, 'prefilter': '', 'transducer': ''}, {'label': 'P4', 'dimension': 'uV', 'sample_rate': 512.0, 'sample_frequency': 512.0, 'physical_max': -10800.0, 'physical_min': 10800.0, 'digital_max': 32767, 'digital_min': -32768, 'prefilter': '', 'transducer': ''}, {'label': 'Pz', 'dimension': 'uV', 'sample_rate': 512.0, 'sample_frequency': 512.0, 'physical_max': -10800.0, 'physical_min': 10800.0, 'digital_max': 32767, 'digital_min': -32768, 'prefilter': '', 'transducer': ''}, {'label': 'T3', 'dimension': 'uV', 'sample_rate': 512.0, 'sample_frequency': 512.0, 'physical_max': -10800.0, 'physical_min': 10800.0, 'digital_max': 32767, 'digital_min': -32768, 'prefilter': '', 'transducer': ''}, {'label': 'T4', 'dimension': 'uV', 'sample_rate': 512.0, 'sample_frequency': 512.0, 'physical_max': -10800.0, 'physical_min': 10800.0, 'digital_max': 32767, 'digital_min': -32768, 'prefilter': '', 'transducer': ''}, {'label': 'T5', 'dimension': 'uV', 'sample_rate': 512.0, 'sample_frequency': 512.0, 'physical_max': -10800.0, 'physical_min': 10800.0, 'digital_max': 32767, 'digital_min': -32768, 'prefilter': '', 'transducer': ''}, {'label': 'T6', 'dimension': 'uV', 'sample_rate': 512.0, 'sample_frequency': 512.0, 'physical_max': -10800.0, 'physical_min': 10800.0, 'digital_max': 32767, 'digital_min': -32768, 'prefilter': '', 'transducer': ''}, {'label': 'LOC', 'dimension': 'uV', 'sample_rate': 512.0, 'sample_frequency': 512.0, 'physical_max': -10800.0, 'physical_min': 10800.0, 'digital_max': 32767, 'digital_min': -32768, 'prefilter': '', 'transducer': ''}, {'label': 'ROC', 'dimension': 'uV', 'sample_rate': 512.0, 'sample_frequency': 512.0, 'physical_max': -10800.0, 'physical_min': 10800.0, 'digital_max': 32767, 'digital_min': -32768, 'prefilter': '', 'transducer': ''}, {'label': 'CHIN1', 'dimension': 'uV', 'sample_rate': 512.0, 'sample_frequency': 512.0, 'physical_max': -10800.0, 'physical_min': 10800.0, 'digital_max': 32767, 'digital_min': -32768, 'prefilter': '', 'transducer': ''}, {'label': 'CHIN2', 'dimension': 'uV', 'sample_rate': 512.0, 'sample_frequency': 512.0, 'physical_max': -10800.0, 'physical_min': 10800.0, 'digital_max': 32767, 'digital_min': -32768, 'prefilter': '', 'transducer': ''}, {'label': 'ECGL', 'dimension': 'uV', 'sample_rate': 512.0, 'sample_frequency': 512.0, 'physical_max': -10800.0, 'physical_min': 10800.0, 'digital_max': 32767, 'digital_min': -32768, 'prefilter': '', 'transducer': ''}, {'label': 'ECGR', 'dimension': 'uV', 'sample_rate': 512.0, 'sample_frequency': 512.0, 'physical_max': -10800.0, 'physical_min': 10800.0, 'digital_max': 32767, 'digital_min': -32768, 'prefilter': '', 'transducer': ''}, {'label': 'LAT1', 'dimension': 'uV', 'sample_rate': 512.0, 'sample_frequency': 512.0, 'physical_max': -10800.0, 'physical_min': 10800.0, 'digital_max': 32767, 'digital_min': -32768, 'prefilter': '', 'transducer': ''}, {'label': 'LAT2', 'dimension': 'uV', 'sample_rate': 512.0, 'sample_frequency': 512.0, 'physical_max': -10800.0, 'physical_min': 10800.0, 'digital_max': 32767, 'digital_min': -32768, 'prefilter': '', 'transducer': ''}, {'label': 'RAT1', 'dimension': 'uV', 'sample_rate': 512.0, 'sample_frequency': 512.0, 'physical_max': -10800.0, 'physical_min': 10800.0, 'digital_max': 32767, 'digital_min': -32768, 'prefilter': '', 'transducer': ''}, {'label': 'RAT2', 'dimension': 'uV', 'sample_rate': 512.0, 'sample_frequency': 512.0, 'physical_max': -10800.0, 'physical_min': 10800.0, 'digital_max': 32767, 'digital_min': -32768, 'prefilter': '', 'transducer': ''}, {'label': 'CHEST', 'dimension': 'uV', 'sample_rate': 512.0, 'sample_frequency': 512.0, 'physical_max': -10800.0, 'physical_min': 10800.0, 'digital_max': 32767, 'digital_min': -32768, 'prefilter': '', 'transducer': ''}, {'label': 'ABD', 'dimension': 'uV', 'sample_rate': 512.0, 'sample_frequency': 512.0, 'physical_max': -10800.0, 'physical_min': 10800.0, 'digital_max': 32767, 'digital_min': -32768, 'prefilter': '', 'transducer': ''}, {'label': 'FLOW', 'dimension': 'uV', 'sample_rate': 512.0, 'sample_frequency': 512.0, 'physical_max': -10800.0, 'physical_min': 10800.0, 'digital_max': 32767, 'digital_min': -32768, 'prefilter': '', 'transducer': ''}, {'label': 'SNORE', 'dimension': 'uV', 'sample_rate': 512.0, 'sample_frequency': 512.0, 'physical_max': -10800.0, 'physical_min': 10800.0, 'digital_max': 32767, 'digital_min': -32768, 'prefilter': '', 'transducer': ''}, {'label': 'DIF5', 'dimension': 'uV', 'sample_rate': 512.0, 'sample_frequency': 512.0, 'physical_max': -10800.0, 'physical_min': 10800.0, 'digital_max': 32767, 'digital_min': -32768, 'prefilter': '', 'transducer': ''}, {'label': 'DIF6', 'dimension': 'uV', 'sample_rate': 512.0, 'sample_frequency': 512.0, 'physical_max': -10800.0, 'physical_min': 10800.0, 'digital_max': 32767, 'digital_min': -32768, 'prefilter': '', 'transducer': ''}, {'label': 'POS', 'dimension': 'uV', 'sample_rate': 512.0, 'sample_frequency': 512.0, 'physical_max': -5400000.0, 'physical_min': 5400000.0, 'digital_max': 32767, 'digital_min': -32768, 'prefilter': '', 'transducer': ''}, {'label': 'DC2', 'dimension': 'uV', 'sample_rate': 512.0, 'sample_frequency': 512.0, 'physical_max': -5400000.0, 'physical_min': 5400000.0, 'digital_max': 32767, 'digital_min': -32768, 'prefilter': '', 'transducer': ''}, {'label': 'DC3', 'dimension': 'uV', 'sample_rate': 512.0, 'sample_frequency': 512.0, 'physical_max': -5400000.0, 'physical_min': 5400000.0, 'digital_max': 32767, 'digital_min': -32768, 'prefilter': '', 'transducer': ''}, {'label': 'DC4', 'dimension': 'uV', 'sample_rate': 512.0, 'sample_frequency': 512.0, 'physical_max': -5400000.0, 'physical_min': 5400000.0, 'digital_max': 32767, 'digital_min': -32768, 'prefilter': '', 'transducer': ''}, {'label': 'DC5', 'dimension': 'uV', 'sample_rate': 512.0, 'sample_frequency': 512.0, 'physical_max': -5400000.0, 'physical_min': 5400000.0, 'digital_max': 32767, 'digital_min': -32768, 'prefilter': '', 'transducer': ''}, {'label': 'DC6', 'dimension': 'uV', 'sample_rate': 512.0, 'sample_frequency': 512.0, 'physical_max': -5400000.0, 'physical_min': 5400000.0, 'digital_max': 32767, 'digital_min': -32768, 'prefilter': '', 'transducer': ''}, {'label': 'DC7', 'dimension': 'uV', 'sample_rate': 512.0, 'sample_frequency': 512.0, 'physical_max': -5400000.0, 'physical_min': 5400000.0, 'digital_max': 32767, 'digital_min': -32768, 'prefilter': '', 'transducer': ''}, {'label': 'DC8', 'dimension': 'uV', 'sample_rate': 512.0, 'sample_frequency': 512.0, 'physical_max': -5400000.0, 'physical_min': 5400000.0, 'digital_max': 32767, 'digital_min': -32768, 'prefilter': '', 'transducer': ''}, {'label': 'DC9', 'dimension': 'uV', 'sample_rate': 512.0, 'sample_frequency': 512.0, 'physical_max': -5400000.0, 'physical_min': 5400000.0, 'digital_max': 32767, 'digital_min': -32768, 'prefilter': '', 'transducer': ''}, {'label': 'DC10', 'dimension': 'uV', 'sample_rate': 512.0, 'sample_frequency': 512.0, 'physical_max': -5400000.0, 'physical_min': 5400000.0, 'digital_max': 32767, 'digital_min': -32768, 'prefilter': '', 'transducer': ''}, {'label': 'OSAT', 'dimension': '%', 'sample_rate': 512.0, 'sample_frequency': 512.0, 'physical_max': 102.3, 'physical_min': 0.0, 'digital_max': 32767, 'digital_min': 0, 'prefilter': '', 'transducer': ''}, {'label': 'PR', 'dimension': 'bpm', 'sample_rate': 512.0, 'sample_frequency': 512.0, 'physical_max': 1023.0, 'physical_min': 0.0, 'digital_max': 32767, 'digital_min': 0, 'prefilter': '', 'transducer': ''}]\n"
     ]
    }
   ],
   "source": [
    "import pyedflib\n",
    "import numpy as np\n",
    "\n",
    "# 打印出通道名称信息\n",
    "f = pyedflib.EdfReader('F:\\\\data\\\\edf\\\\1_0002.edf')\n",
    "n = f.signals_in_file\n",
    "print(\"signal numbers:\", n)\n",
    "signal_labels = f.getSignalLabels()\n",
    "print(\"Labels:\", signal_labels)\n",
    "print(\"=======================================\")\n",
    "signal_headers = f.getSignalHeaders()\n",
    "print(\"Headers:\", signal_headers)"
   ]
  }
 ],
 "metadata": {
  "kernelspec": {
   "display_name": "Python 3.9.15 ('base')",
   "language": "python",
   "name": "python3"
  },
  "language_info": {
   "codemirror_mode": {
    "name": "ipython",
    "version": 3
   },
   "file_extension": ".py",
   "mimetype": "text/x-python",
   "name": "python",
   "nbconvert_exporter": "python",
   "pygments_lexer": "ipython3",
   "version": "3.9.15"
  },
  "orig_nbformat": 4,
  "vscode": {
   "interpreter": {
    "hash": "7758e92e9a61d7a3490898707f7eeb937c85e9d1e8d4e877cc6c187218f226d5"
   }
  }
 },
 "nbformat": 4,
 "nbformat_minor": 2
}