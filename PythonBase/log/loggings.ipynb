{
 "cells": [
  {
   "cell_type": "code",
   "execution_count": 1,
   "metadata": {},
   "outputs": [],
   "source": [
    "import logging"
   ]
  },
  {
   "cell_type": "markdown",
   "metadata": {},
   "source": [
    "logging日志等级：\n",
    "debug记录最详细的信息\n",
    "info记录关键节点信息\n",
    "warning记录不希望发生的，程序仍正常\n",
    "error记录由于严重问题导致程序无法执行某些功能\n",
    "critical严重错误导致程序无法继续运行"
   ]
  },
  {
   "cell_type": "code",
   "execution_count": 31,
   "metadata": {},
   "outputs": [],
   "source": [
    "import logging\n",
    "from logging.handlers import RotatingFileHandler\n",
    "\n",
    "def logging_fun():\n",
    "    # 创建日志的记录等级设\n",
    "    logging.basicConfig(level=logging.INFO,filemode='a')\n",
    "    # 创建日志记录器，指明日志保存的路径，每个日志文件的最大值，保存的日志文件个数上限\n",
    "    # 记得每一次要改名，不然会重复记录\n",
    "    log_handle = RotatingFileHandler(\"logtodata.txt\", maxBytes=1024 * 1024, backupCount=1)\n",
    "    # 创建日志记录的格式\n",
    "    formatter = logging.Formatter(\"format = '%(asctime)s - %(name)s - %(levelname)s - %(message)s-%(funcName)s',\")\n",
    "    # 为创建的日志记录器设置日志记录格式\n",
    "    log_handle.setFormatter(formatter)\n",
    "    # 为全局的日志工具对象添加日志记录器\n",
    "    logging.getLogger().addHandler(log_handle)\n",
    "    logging.getLogger().setLevel(logging.DEBUG)\n",
    "\n",
    "logging_fun()"
   ]
  },
  {
   "cell_type": "code",
   "execution_count": 32,
   "metadata": {},
   "outputs": [
    {
     "name": "stderr",
     "output_type": "stream",
     "text": [
      "INFO:root:info，用来打印一些正常的操作信息\n",
      "WARNING:root:用来用来打印警告信息\n",
      "ERROR:root:一般用来打印一些错误信息\n",
      "CRITICAL:root:去死吧你，用来打印一些致命的错误信息，等级最高\n"
     ]
    }
   ],
   "source": [
    "\n",
    "logging.info('info，用来打印一些正常的操作信息')\n",
    "logging.warning('用来用来打印警告信息')\n",
    "logging.error('一般用来打印一些错误信息')\n",
    "logging.critical('去死吧你，用来打印一些致命的错误信息，等级最高')\n",
    "# 关闭日志记录\n",
    "logging.shutdown()"
   ]
  },
  {
   "cell_type": "code",
   "execution_count": 39,
   "metadata": {},
   "outputs": [
    {
     "name": "stdout",
     "output_type": "stream",
     "text": [
      "rootlogger: [<StreamHandler stdout (DEBUG)>]\n",
      "selflogger [<StreamHandler stdout (DEBUG)>, <FileHandler d:\\C++\\data_structure\\PythonBase\\log\\mylog\\debug_test.log (DEBUG)>, <RotatingFileHandler d:\\C++\\data_structure\\PythonBase\\log\\mylog\\errors.log (ERROR)>]\n",
      "True\n",
      "2023-09-14 10:02:19,206 - INFO，巨鹿信息\n",
      "2023-09-14 10:02:19,206 - INFO，巨鹿信息\n",
      "2023-09-14 10:02:19,207 - ERROR，记录错误\n",
      "2023-09-14 10:02:19,207 - ERROR，记录错误\n",
      "2023-09-14 10:02:19,208 - rootDEBUG，调试bug\n",
      "2023-09-14 10:02:19,208 - rootDEBUG，调试bug\n",
      "2023-09-14 10:02:19,209 - INFO\n",
      "2023-09-14 10:02:19,209 - ERROR\n",
      "2023-09-14 10:02:19,210 - rootDEBUG\n"
     ]
    }
   ],
   "source": [
    "# 配置文件设定日志格式\n",
    "import logging\n",
    "import os\n",
    "from logging import config\n",
    "import yaml\n",
    "\n",
    "def use_yaml_config(default_path='.\\mylog\\config.yaml', default_level=logging.INFO):\n",
    "    path = default_path\n",
    "    if os.path.exists(path):\n",
    "        with open(path, 'r', encoding = 'utf-8') as f:\n",
    "            config = yaml.load(stream=f, Loader=yaml.FullLoader)\n",
    "        logging.config.dictConfig(config)\n",
    "    else:\n",
    "        logging.basicConfig(level=default_level)\n",
    "\n",
    "if '__main__' == __name__:\n",
    "\n",
    "    use_yaml_config(default_path='.\\logtest.yaml')\n",
    "    # root的logger\n",
    "    root = logging.getLogger()\n",
    "    # 子记录器的名字与配置文件中loggers字段内的保持一致\n",
    "    # loggers:\n",
    "    #   my_testyaml:\n",
    "    #       level: DEBUG\n",
    "    #       handlers: [console, info_file_handler,error_file_handler]\n",
    "    my_testyaml = logging.getLogger(\"my_testyaml\")\n",
    "    # 上面两个就是dictConfig的字典\n",
    "    print(\"rootlogger:\", root.handlers)\n",
    "    print(\"selflogger\", my_testyaml.handlers)\n",
    "    # 判断子记录器与根记录器的handler是否相同\n",
    "    print(root.handlers[0] == my_testyaml.handlers[0])\n",
    "\n",
    "    my_testyaml.info(\"INFO，巨鹿信息\")\n",
    "    my_testyaml.error('ERROR，记录错误')\n",
    "    my_testyaml.debug(\"rootDEBUG，调试bug\")\n",
    "\n",
    "    root.info(\"INFO\")\n",
    "    root.error('ERROR')\n",
    "    root.debug(\"rootDEBUG\")\n",
    "    logging.shutdown()"
   ]
  }
 ],
 "metadata": {
  "kernelspec": {
   "display_name": "d2l",
   "language": "python",
   "name": "python3"
  },
  "language_info": {
   "codemirror_mode": {
    "name": "ipython",
    "version": 3
   },
   "file_extension": ".py",
   "mimetype": "text/x-python",
   "name": "python",
   "nbconvert_exporter": "python",
   "pygments_lexer": "ipython3",
   "version": "3.8.15"
  },
  "orig_nbformat": 4
 },
 "nbformat": 4,
 "nbformat_minor": 2
}
