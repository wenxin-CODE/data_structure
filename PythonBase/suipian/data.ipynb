{
 "cells": [
  {
   "cell_type": "code",
   "execution_count": 1,
   "metadata": {
    "collapsed": true
   },
   "outputs": [],
   "source": [
    "import numpy as np\n",
    "import pandas as pd\n",
    "from pandas import DataFrame, Series"
   ]
  },
  {
   "cell_type": "code",
   "execution_count": null,
   "metadata": {
    "collapsed": false,
    "pycharm": {
     "name": "#%%\n"
    }
   },
   "outputs": [],
   "source": [
    "result = pd.read_excel(\"E:\\\\Python\\\\AIpython\\\\.ipynb_checkpoints\\\\demo.xlsx\",header=None,nrows=2)\n",
    "# 不加header=None，第一行默认为索引 ; nrows=2表示读几行\n",
    "print(result)\n",
    "result.to_pickle('frame_pickle')#相当于save方法，存为二进制格式数据\n",
    "pd.read_pickle(\"frame_pickle\")#相当于load方法，读取二进制数据文件\n"
   ]
  },
  {
   "cell_type": "markdown",
   "metadata": {
    "collapsed": false
   },
   "source": [
    "pd.read_csv('path',header=None)生成默认列名，\n",
    "加参数na_values=['NULL']判断那些值为空，还可将其赋值为字典来为各列指定NA标记值，字典的键代表列名\n",
    "加参数chunksize=10表示分块读取，每块大小为10\n",
    "pd.read_csv('path',name=['a','b','c'])生成指定列名，再加上index_col=‘a’就把a作为索引\n",
    "希望多个列做层次化索引，只需把index_col换成列名的列表"
   ]
  },
  {
   "cell_type": "code",
   "execution_count": 16,
   "metadata": {
    "collapsed": false,
    "pycharm": {
     "name": "#%%\n"
    }
   },
   "outputs": [
    {
     "data": {
      "text/html": [
       "<div>\n",
       "<style scoped>\n",
       "    .dataframe tbody tr th:only-of-type {\n",
       "        vertical-align: middle;\n",
       "    }\n",
       "\n",
       "    .dataframe tbody tr th {\n",
       "        vertical-align: top;\n",
       "    }\n",
       "\n",
       "    .dataframe thead th {\n",
       "        text-align: right;\n",
       "    }\n",
       "</style>\n",
       "<table border=\"1\" class=\"dataframe\">\n",
       "  <thead>\n",
       "    <tr style=\"text-align: right;\">\n",
       "      <th></th>\n",
       "      <th>lkey</th>\n",
       "      <th>data1</th>\n",
       "      <th>rkey</th>\n",
       "      <th>data2</th>\n",
       "    </tr>\n",
       "  </thead>\n",
       "  <tbody>\n",
       "    <tr>\n",
       "      <th>0</th>\n",
       "      <td>b</td>\n",
       "      <td>0</td>\n",
       "      <td>a</td>\n",
       "      <td>0.0</td>\n",
       "    </tr>\n",
       "    <tr>\n",
       "      <th>1</th>\n",
       "      <td>b</td>\n",
       "      <td>1</td>\n",
       "      <td>b</td>\n",
       "      <td>1.0</td>\n",
       "    </tr>\n",
       "    <tr>\n",
       "      <th>2</th>\n",
       "      <td>a</td>\n",
       "      <td>2</td>\n",
       "      <td>d</td>\n",
       "      <td>2.0</td>\n",
       "    </tr>\n",
       "    <tr>\n",
       "      <th>3</th>\n",
       "      <td>c</td>\n",
       "      <td>3</td>\n",
       "      <td>NaN</td>\n",
       "      <td>NaN</td>\n",
       "    </tr>\n",
       "    <tr>\n",
       "      <th>4</th>\n",
       "      <td>a</td>\n",
       "      <td>4</td>\n",
       "      <td>NaN</td>\n",
       "      <td>NaN</td>\n",
       "    </tr>\n",
       "    <tr>\n",
       "      <th>5</th>\n",
       "      <td>a</td>\n",
       "      <td>5</td>\n",
       "      <td>NaN</td>\n",
       "      <td>NaN</td>\n",
       "    </tr>\n",
       "    <tr>\n",
       "      <th>6</th>\n",
       "      <td>b</td>\n",
       "      <td>6</td>\n",
       "      <td>NaN</td>\n",
       "      <td>NaN</td>\n",
       "    </tr>\n",
       "  </tbody>\n",
       "</table>\n",
       "</div>"
      ],
      "text/plain": [
       "  lkey  data1 rkey  data2\n",
       "0    b      0    a    0.0\n",
       "1    b      1    b    1.0\n",
       "2    a      2    d    2.0\n",
       "3    c      3  NaN    NaN\n",
       "4    a      4  NaN    NaN\n",
       "5    a      5  NaN    NaN\n",
       "6    b      6  NaN    NaN"
      ]
     },
     "execution_count": 16,
     "metadata": {},
     "output_type": "execute_result"
    }
   ],
   "source": [
    "#合并数据，merge参数说明P190\n",
    "df1 = DataFrame({\n",
    "    \"lkey\":['b','b','a','c','a','a','b'],\n",
    "    \"data1\":range(7)\n",
    "})\n",
    "\n",
    "df2 = DataFrame({\n",
    "    \"rkey\":['a','b','d'],\n",
    "    \"data2\":range(3)\n",
    "})\n",
    "\n",
    "pd.merge(df1,df2,left_on='lkey',right_on='rkey',how='outer')\n",
    "#默认用重叠的列做键,一个字典中包含多个键，合并时输入键列表\n",
    "# how指定连接方式，默认内连接\n",
    "# suffixes用于处理重叠列名（注意是名字，不是变量，只是把相同的名字变一下）\n",
    "df1.join(df2,how='outer')"
   ]
  },
  {
   "cell_type": "code",
   "execution_count": 15,
   "metadata": {
    "collapsed": false,
    "pycharm": {
     "name": "#%%\n"
    }
   },
   "outputs": [
    {
     "data": {
      "text/html": [
       "<div>\n",
       "<style scoped>\n",
       "    .dataframe tbody tr th:only-of-type {\n",
       "        vertical-align: middle;\n",
       "    }\n",
       "\n",
       "    .dataframe tbody tr th {\n",
       "        vertical-align: top;\n",
       "    }\n",
       "\n",
       "    .dataframe thead th {\n",
       "        text-align: right;\n",
       "    }\n",
       "</style>\n",
       "<table border=\"1\" class=\"dataframe\">\n",
       "  <thead>\n",
       "    <tr style=\"text-align: right;\">\n",
       "      <th></th>\n",
       "      <th>a</th>\n",
       "      <th>b</th>\n",
       "      <th>data2</th>\n",
       "      <th>rkey</th>\n",
       "    </tr>\n",
       "  </thead>\n",
       "  <tbody>\n",
       "    <tr>\n",
       "      <th>0</th>\n",
       "      <td>1.0</td>\n",
       "      <td>NaN</td>\n",
       "      <td>0.0</td>\n",
       "      <td>a</td>\n",
       "    </tr>\n",
       "    <tr>\n",
       "      <th>1</th>\n",
       "      <td>5.0</td>\n",
       "      <td>2.0</td>\n",
       "      <td>1.0</td>\n",
       "      <td>b</td>\n",
       "    </tr>\n",
       "    <tr>\n",
       "      <th>2</th>\n",
       "      <td>NaN</td>\n",
       "      <td>11.0</td>\n",
       "      <td>2.0</td>\n",
       "      <td>d</td>\n",
       "    </tr>\n",
       "    <tr>\n",
       "      <th>3</th>\n",
       "      <td>NaN</td>\n",
       "      <td>NaN</td>\n",
       "      <td>NaN</td>\n",
       "      <td>NaN</td>\n",
       "    </tr>\n",
       "    <tr>\n",
       "      <th>4</th>\n",
       "      <td>7.0</td>\n",
       "      <td>6.0</td>\n",
       "      <td>NaN</td>\n",
       "      <td>NaN</td>\n",
       "    </tr>\n",
       "  </tbody>\n",
       "</table>\n",
       "</div>"
      ],
      "text/plain": [
       "     a     b  data2 rkey\n",
       "0  1.0   NaN    0.0    a\n",
       "1  5.0   2.0    1.0    b\n",
       "2  NaN  11.0    2.0    d\n",
       "3  NaN   NaN    NaN  NaN\n",
       "4  7.0   6.0    NaN  NaN"
      ]
     },
     "execution_count": 15,
     "metadata": {},
     "output_type": "execute_result"
    }
   ],
   "source": [
    "#轴向连接,concat参数说明P198\n",
    "s1 = Series([1,2],index=['a','b'])\n",
    "s2 = Series([3,4,5],index=['c','d','e'])\n",
    "s3 = Series([6,7],index=['f','g'])\n",
    "result = pd.concat([s1,s2,s3],keys=['one','two','three'])\n",
    "#默认axies=0，axies=1生成DataFrame（表格型数据结构，既有行索引，也有列索引，可看作series组成的字典）\n",
    "#参数join=inner生成交集，join_axes指定在其他轴上合并，keys在连接轴上创建层次化索引\n",
    "result.unstack()\n",
    "\n",
    "\n",
    "# combine_first用参数对象的数据为调用对象的数据打补丁\n",
    "df1 = DataFrame({\n",
    "    'a':[1,np.nan,5,np.nan],\n",
    "    'b':[np.nan,2,np.nan,6],\n",
    "    's':range(2,18,4)\n",
    "})\n",
    "df1 = DataFrame({\n",
    "    'a':[1,5,np.nan,np.nan,7],\n",
    "    'b':[np.nan,2,11,np.nan,6]\n",
    "})\n",
    "df1.combine_first(df2)"
   ]
  },
  {
   "cell_type": "code",
   "execution_count": 10,
   "metadata": {
    "collapsed": false,
    "pycharm": {
     "name": "#%%\n"
    }
   },
   "outputs": [
    {
     "name": "stdout",
     "output_type": "stream",
     "text": [
      "number    one  two  three\n",
      "state                    \n",
      "Ohio        0    1      2\n",
      "Colorado    3    4      5\n",
      "============================\n",
      "state     number\n",
      "Ohio      one       0\n",
      "          two       1\n",
      "          three     2\n",
      "Colorado  one       3\n",
      "          two       4\n",
      "          three     5\n",
      "dtype: int32\n",
      "============================\n",
      "number    one  two  three\n",
      "state                    \n",
      "Ohio        0    1      2\n",
      "Colorado    3    4      5\n"
     ]
    }
   ],
   "source": [
    "#重塑\n",
    "data = DataFrame(np.arange(6).reshape((2,3)),\n",
    "                 index=pd.Index(['Ohio','Colorado'],name='state'),\n",
    "                 columns=pd.Index(['one','two','three'],name='number'))\n",
    "print(data)\n",
    "print(\"============================\")\n",
    "print(data.stack(0))#列转行,默认操作最内层，也可传入分层级别编号或名称\n",
    "#参数咋设没太懂\n",
    "print(\"============================\")\n",
    "print(data.stack().unstack())#再转回来，作为旋转轴的级别会成为结果中的最低级别\n",
    "#长格式转宽格式，a.pivot('a','b','c')a是行名，b是列名，c是填充数据的列名"
   ]
  },
  {
   "cell_type": "code",
   "execution_count": 12,
   "metadata": {
    "collapsed": false,
    "pycharm": {
     "name": "#%%\n"
    }
   },
   "outputs": [
    {
     "name": "stdout",
     "output_type": "stream",
     "text": [
      "0    False\n",
      "1     True\n",
      "2    False\n",
      "3    False\n",
      "4     True\n",
      "5    False\n",
      "6     True\n",
      "dtype: bool\n"
     ]
    },
    {
     "data": {
      "text/html": [
       "<div>\n",
       "<style scoped>\n",
       "    .dataframe tbody tr th:only-of-type {\n",
       "        vertical-align: middle;\n",
       "    }\n",
       "\n",
       "    .dataframe tbody tr th {\n",
       "        vertical-align: top;\n",
       "    }\n",
       "\n",
       "    .dataframe thead th {\n",
       "        text-align: right;\n",
       "    }\n",
       "</style>\n",
       "<table border=\"1\" class=\"dataframe\">\n",
       "  <thead>\n",
       "    <tr style=\"text-align: right;\">\n",
       "      <th></th>\n",
       "      <th>k1</th>\n",
       "      <th>k2</th>\n",
       "    </tr>\n",
       "  </thead>\n",
       "  <tbody>\n",
       "    <tr>\n",
       "      <th>0</th>\n",
       "      <td>one</td>\n",
       "      <td>1</td>\n",
       "    </tr>\n",
       "    <tr>\n",
       "      <th>2</th>\n",
       "      <td>one</td>\n",
       "      <td>2</td>\n",
       "    </tr>\n",
       "    <tr>\n",
       "      <th>3</th>\n",
       "      <td>two</td>\n",
       "      <td>3</td>\n",
       "    </tr>\n",
       "    <tr>\n",
       "      <th>5</th>\n",
       "      <td>two</td>\n",
       "      <td>4</td>\n",
       "    </tr>\n",
       "  </tbody>\n",
       "</table>\n",
       "</div>"
      ],
      "text/plain": [
       "    k1  k2\n",
       "0  one   1\n",
       "2  one   2\n",
       "3  two   3\n",
       "5  two   4"
      ]
     },
     "execution_count": 12,
     "metadata": {},
     "output_type": "execute_result"
    }
   ],
   "source": [
    "#移除重复数据\n",
    "data = DataFrame({'k1':['one']*3+['two']*4,\n",
    "                  'k2':[1,1,2,3,3,4,4]})\n",
    "print(data.duplicated())#返回布尔值，判断是否重复\n",
    "data.drop_duplicates()#删除重复"
   ]
  },
  {
   "cell_type": "code",
   "execution_count": 18,
   "metadata": {
    "collapsed": false,
    "pycharm": {
     "name": "#%%\n"
    }
   },
   "outputs": [
    {
     "name": "stdout",
     "output_type": "stream",
     "text": [
      "          food  ounces\n",
      "0        bacon     4.0\n",
      "1  pulled pork     3.0\n",
      "2        bacon    12.0\n",
      "3     pastrami     6.0\n",
      "4  corned beef     7.5\n",
      "5        bacon     8.0\n",
      "6     pastrami     3.0\n",
      "7    honey ham     5.0\n",
      "8     nova lox     6.0\n",
      "======================\n",
      "          food  ounces  animal\n",
      "0        bacon     4.0     pig\n",
      "1  pulled pork     3.0     pig\n",
      "2        bacon    12.0     pig\n",
      "3     pastrami     6.0     NaN\n",
      "4  corned beef     7.5     cow\n",
      "5        bacon     8.0     pig\n",
      "6     pastrami     3.0     NaN\n",
      "7    honey ham     5.0     pig\n",
      "8     nova lox     6.0  salmon\n",
      "======================\n",
      "            food  ounces  ANIMAL\n",
      "nan        bacon     4.0     pig\n",
      "1    pulled pork     3.0     pig\n",
      "2          bacon    12.0     pig\n",
      "3       pastrami     6.0     NaN\n",
      "4    corned beef     7.5     cow\n",
      "5          bacon     8.0     pig\n",
      "6       pastrami     3.0     NaN\n",
      "7      honey ham     5.0     pig\n",
      "8       nova lox     6.0  salmon\n"
     ]
    }
   ],
   "source": [
    "#利用函数或映射进行数据转换\n",
    "data = DataFrame({\n",
    "    'food':['bacon','pulled pork','bacon','pastrami','corned beef','bacon','pastrami','honey ham','nova lox'],\n",
    "    'ounces':[4,3,12,6,7.5,8,3,5,6]\n",
    "})\n",
    "print(data)\n",
    "meat_to_animal = {\n",
    "    'bacon':'pig',\n",
    "    'pulled pork':'pig',\n",
    "    'corned beef':'cow',\n",
    "    'honey ham':'pig',\n",
    "    'nova lox':'salmon'\n",
    "}\n",
    "print(\"======================\")\n",
    "# map修改对象的数据子集\n",
    "data['animal'] = data['food'].map(meat_to_animal)\n",
    "print(data)\n",
    "#使用rename更新标签\n",
    "print(\"======================\")\n",
    "print(data.rename(index={0:'nan'},\n",
    "            columns={'animal':'ANIMAL'}))"
   ]
  },
  {
   "cell_type": "code",
   "execution_count": 15,
   "metadata": {
    "collapsed": false,
    "pycharm": {
     "name": "#%%\n"
    }
   },
   "outputs": [
    {
     "name": "stdout",
     "output_type": "stream",
     "text": [
      "0       1.0\n",
      "1    -999.0\n",
      "2       2.0\n",
      "3    -999.0\n",
      "4   -1000.0\n",
      "5       3.0\n",
      "dtype: float64\n",
      "0    1.00000\n",
      "1        NaN\n",
      "2    2.00000\n",
      "3        NaN\n",
      "4    0.00001\n",
      "5    3.00000\n",
      "dtype: float64\n"
     ]
    }
   ],
   "source": [
    "#替换值\n",
    "data = Series([1.,-999,2.,-999,-1000,3])\n",
    "print(data)\n",
    "print(data.replace([-999,-1000],[np.nan,0.00001]))\n",
    "#输入的参数也可以是字典"
   ]
  },
  {
   "cell_type": "code",
   "execution_count": 8,
   "metadata": {
    "collapsed": false,
    "pycharm": {
     "name": "#%%\n"
    }
   },
   "outputs": [
    {
     "name": "stdout",
     "output_type": "stream",
     "text": [
      "[0 0 0 1 0 0 2 1 3 2 2 1]\n",
      "a    5\n",
      "b    3\n",
      "c    3\n",
      "d    1\n",
      "dtype: int64\n"
     ]
    }
   ],
   "source": [
    "#离散化和面元划分\n",
    "ages = [20,22,25,27,21,23,37,31,61,45,41,32]\n",
    "bins = [18,25,35,60,100]#若传入间距数量，会按最大值和最小追等间距分开\n",
    "group_name = ['a','b','c','d']#4个区间\n",
    "cat = pd.cut(ages,bins,labels=group_name)#还可以加参数labels=group_name来指定分类名称\n",
    "print(cat.codes)#相当于cat.labels指定所属类别\n",
    "print(pd.value_counts(cat))#统计个数\n",
    "\n",
    "#qcut可根据样本分位数进行划分，也就是每个字区间样本一样多。当然也可以自定义"
   ]
  },
  {
   "cell_type": "code",
   "execution_count": 9,
   "metadata": {
    "collapsed": false,
    "pycharm": {
     "name": "#%%\n"
    }
   },
   "outputs": [
    {
     "name": "stdout",
     "output_type": "stream",
     "text": [
      "   a  b  c\n",
      "0  0  1  0\n",
      "1  0  1  0\n",
      "2  1  0  0\n",
      "3  0  0  1\n",
      "4  1  0  0\n",
      "5  0  1  0\n"
     ]
    }
   ],
   "source": [
    "#分类变量转换为指标矩阵\n",
    "data= pd.DataFrame({'key':['b','b','a','c','a','b'],\n",
    "                    'data1':range(6)})\n",
    "print(pd.get_dummies(data['key']))"
   ]
  },
  {
   "cell_type": "code",
   "execution_count": 11,
   "metadata": {
    "collapsed": false,
    "pycharm": {
     "name": "#%%\n"
    }
   },
   "outputs": [
    {
     "name": "stdout",
     "output_type": "stream",
     "text": [
      "['a', 'b', 'cccp']\n",
      "a::b::cccp\n"
     ]
    }
   ],
   "source": [
    "#字符串对象化\n",
    "#字符串方法P218\n",
    "val = 'a,b,   cccp'\n",
    "piece = [x.strip() for x in val.split(',')]#split分开，strip去空格\n",
    "print(piece)\n",
    "#用符号将数据连起来\n",
    "print(\"::\".join(piece))\n"
   ]
  }
 ],
 "metadata": {
  "kernelspec": {
   "display_name": "Python 3.9.15 ('base')",
   "language": "python",
   "name": "python3"
  },
  "language_info": {
   "codemirror_mode": {
    "name": "ipython",
    "version": 2
   },
   "file_extension": ".py",
   "mimetype": "text/x-python",
   "name": "python",
   "nbconvert_exporter": "python",
   "pygments_lexer": "ipython2",
   "version": "3.9.15"
  },
  "vscode": {
   "interpreter": {
    "hash": "7758e92e9a61d7a3490898707f7eeb937c85e9d1e8d4e877cc6c187218f226d5"
   }
  }
 },
 "nbformat": 4,
 "nbformat_minor": 0
}
