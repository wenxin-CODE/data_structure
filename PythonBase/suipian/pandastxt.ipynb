{
 "cells": [
  {
   "cell_type": "code",
   "execution_count": 1,
   "metadata": {},
   "outputs": [],
   "source": [
    "# 数据的聚合&分组运算\n",
    "import pandas as pd\n",
    "import numpy as np"
   ]
  },
  {
   "cell_type": "code",
   "execution_count": 3,
   "metadata": {},
   "outputs": [
    {
     "name": "stdout",
     "output_type": "stream",
     "text": [
      "a one\n",
      "============\n",
      "  key1 key2     data1    data2\n",
      "0    a  one -1.325515 -1.16248\n",
      "4    a  one  0.471311  0.84228\n",
      "a two\n",
      "============\n",
      "  key1 key2     data1     data2\n",
      "1    a  two  0.117193 -0.069478\n",
      "b one\n",
      "============\n",
      "  key1 key2     data1     data2\n",
      "2    b  one -1.579531  0.488375\n",
      "b two\n",
      "============\n",
      "  key1 key2     data1     data2\n",
      "3    b  two -1.298552 -0.864345\n",
      "+++++++++++++++++++++++\n",
      "{'a':   key1 key2     data1     data2\n",
      "0    a  one -1.325515 -1.162480\n",
      "1    a  two  0.117193 -0.069478\n",
      "4    a  one  0.471311  0.842280, 'b':   key1 key2     data1     data2\n",
      "2    b  one -1.579531  0.488375\n",
      "3    b  two -1.298552 -0.864345}\n"
     ]
    }
   ],
   "source": [
    "df = pd.DataFrame({\n",
    "    'key1':['a','a','b','b','a'],\n",
    "    'key2':['one','two','one','two','one'],\n",
    "    'data1':np.random.randn(5),\n",
    "    'data2':np.random.randn(5)\n",
    "})\n",
    "# All arrays must be of the same length\n",
    "# print(df)\n",
    "grouped = df['data1'].groupby(df['key1'])\n",
    "grouped.mean()#求每组平均值\n",
    "\n",
    "# 传入两个键进行分组，得到层次化索引\n",
    "# 用来分组的键可以是任意长度的数组\n",
    "menas = df['data2'].groupby([df['key1'],df['key2']]).mean()\n",
    "# print(menas)\n",
    "\n",
    "# 输出分组后的元素\n",
    "for (k1,k2),group in df.groupby(['key1','key2']):\n",
    "    print(k1,k2)\n",
    "    print(\"============\")\n",
    "    print(group)\n",
    "\n",
    "# 转成字典\n",
    "print(\"+++++++++++++++++++++++\")\n",
    "pieces = dict(list(df.groupby('key1')))\n",
    "print(pieces)"
   ]
  },
  {
   "cell_type": "code",
   "execution_count": 5,
   "metadata": {},
   "outputs": [
    {
     "name": "stdout",
     "output_type": "stream",
     "text": [
      "            blue       red\n",
      "Joe    -2.003575 -2.217660\n",
      "Steve  -1.910548 -0.148063\n",
      "Wes    -2.091593 -1.534173\n",
      "Jim    -1.232293  2.339318\n",
      "Travis  0.691150 -4.624359\n"
     ]
    }
   ],
   "source": [
    "# 通过字典进行分组\n",
    "people = pd.DataFrame(\n",
    "    np.random.randn(5,5),\n",
    "    columns=['a','b','c','d','e'],\n",
    "    index=['Joe','Steve','Wes','Jim','Travis']\n",
    ")\n",
    "# people.iloc[2:3,['b','c']] = np.nan\n",
    "mapping = {\n",
    "    'a':'red','b':'red','c':'blue',\n",
    "    'd':'blue','e':'red','f':'orange'\n",
    "}\n",
    "\n",
    "by_column = people.groupby(mapping,axis=1)\n",
    "print(by_column.sum())"
   ]
  },
  {
   "cell_type": "code",
   "execution_count": 10,
   "metadata": {},
   "outputs": [
    {
     "data": {
      "text/html": [
       "<div>\n",
       "<style scoped>\n",
       "    .dataframe tbody tr th:only-of-type {\n",
       "        vertical-align: middle;\n",
       "    }\n",
       "\n",
       "    .dataframe tbody tr th {\n",
       "        vertical-align: top;\n",
       "    }\n",
       "\n",
       "    .dataframe thead th {\n",
       "        text-align: right;\n",
       "    }\n",
       "</style>\n",
       "<table border=\"1\" class=\"dataframe\">\n",
       "  <thead>\n",
       "    <tr style=\"text-align: right;\">\n",
       "      <th></th>\n",
       "      <th>Country</th>\n",
       "      <th>Capital</th>\n",
       "      <th>Population</th>\n",
       "    </tr>\n",
       "  </thead>\n",
       "  <tbody>\n",
       "    <tr>\n",
       "      <th>0</th>\n",
       "      <td>china</td>\n",
       "      <td>beijing</td>\n",
       "      <td>1400000000</td>\n",
       "    </tr>\n",
       "    <tr>\n",
       "      <th>1</th>\n",
       "      <td>india</td>\n",
       "      <td>new delhi</td>\n",
       "      <td>1303171035</td>\n",
       "    </tr>\n",
       "    <tr>\n",
       "      <th>2</th>\n",
       "      <td>brazil</td>\n",
       "      <td>brasilia</td>\n",
       "      <td>207847528</td>\n",
       "    </tr>\n",
       "  </tbody>\n",
       "</table>\n",
       "</div>"
      ],
      "text/plain": [
       "  Country    Capital  Population\n",
       "0   china    beijing  1400000000\n",
       "1   india  new delhi  1303171035\n",
       "2  brazil   brasilia   207847528"
      ]
     },
     "execution_count": 10,
     "metadata": {},
     "output_type": "execute_result"
    }
   ],
   "source": [
    "s = pd.Series([3,-5,7,4],index=['a','b','c','d'])\n",
    "data = {'Country':['china','india','brazil'],\n",
    "'Capital':['beijing','new delhi','brasilia'],\n",
    "'Population':[1400000000,1303171035,207847528]}\n",
    "\n",
    "df = pd.DataFrame(data,columns=['Country','Capital','Population'])\n",
    "df"
   ]
  },
  {
   "cell_type": "code",
   "execution_count": 14,
   "metadata": {},
   "outputs": [
    {
     "name": "stdout",
     "output_type": "stream",
     "text": [
      "-5\n",
      "  Country    Capital  Population\n",
      "1   india  new delhi  1303171035\n",
      "2  brazil   brasilia   207847528\n",
      "RangeIndex(start=0, stop=3, step=1) Index(['Country', 'Capital', 'Population'], dtype='object')\n"
     ]
    }
   ],
   "source": [
    "print(s['b'])\n",
    "print(df[1:])\n",
    "# print(df.iat([0],[0]))#'_iAtIndexer' object is not callable\n",
    "# print(df.ix[:'Capital'])'DataFrame' object has no attribute 'ix'\n",
    "print(df.index,df.columns)"
   ]
  }
 ],
 "metadata": {
  "kernelspec": {
   "display_name": "Python 3.9.15 ('base')",
   "language": "python",
   "name": "python3"
  },
  "language_info": {
   "codemirror_mode": {
    "name": "ipython",
    "version": 3
   },
   "file_extension": ".py",
   "mimetype": "text/x-python",
   "name": "python",
   "nbconvert_exporter": "python",
   "pygments_lexer": "ipython3",
   "version": "3.9.15"
  },
  "orig_nbformat": 2,
  "vscode": {
   "interpreter": {
    "hash": "7758e92e9a61d7a3490898707f7eeb937c85e9d1e8d4e877cc6c187218f226d5"
   }
  }
 },
 "nbformat": 4,
 "nbformat_minor": 2
}
