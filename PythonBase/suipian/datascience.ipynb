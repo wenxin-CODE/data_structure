{
 "cells": [
  {
   "cell_type": "code",
   "execution_count": 2,
   "metadata": {},
   "outputs": [
    {
     "name": "stdout",
     "output_type": "stream",
     "text": [
      "  aaaaaa  ccccccccccc  \n",
      "aaaaaa  ccccccccccc\n"
     ]
    }
   ],
   "source": [
    "str = \"  aaaaaa  ccccccccccc  \"\n",
    "print(str)\n",
    "print(str.strip())#删除开头结尾空格"
   ]
  },
  {
   "cell_type": "code",
   "execution_count": 19,
   "metadata": {},
   "outputs": [
    {
     "name": "stdout",
     "output_type": "stream",
     "text": [
      "[1 2 3 5 4]\n"
     ]
    }
   ],
   "source": [
    "import numpy as np\n",
    "\n",
    "sarray = np.array([1,2,3,4])\n",
    "print(np.insert(sarray,3,5))#在array的第3个位置插入5\n",
    "# sarray.corrcoef()"
   ]
  },
  {
   "cell_type": "code",
   "execution_count": 20,
   "metadata": {},
   "outputs": [
    {
     "name": "stdout",
     "output_type": "stream",
     "text": [
      "[1, 2, 3, 4, 12, 'a', 'b', 'c']\n",
      "[2, 3, 4, 12, 'a', 'b']\n"
     ]
    }
   ],
   "source": [
    "data = [1,2,3,4]\n",
    "data.append(12)#可添加单个元素，也可添加迭代对象\n",
    "data.extend(['a','b','c'])#只能添加迭代对象呢\n",
    "print(data)\n",
    "data.remove(1)#删除某个数据\n",
    "deel = data.pop(-1)#删除某个位置的数据并返回，默认删除最后一个\n",
    "print(data)"
   ]
  },
  {
   "cell_type": "code",
   "execution_count": null,
   "metadata": {},
   "outputs": [],
   "source": []
  }
 ],
 "metadata": {
  "kernelspec": {
   "display_name": "Python 3.9.15 ('base')",
   "language": "python",
   "name": "python3"
  },
  "language_info": {
   "codemirror_mode": {
    "name": "ipython",
    "version": 3
   },
   "file_extension": ".py",
   "mimetype": "text/x-python",
   "name": "python",
   "nbconvert_exporter": "python",
   "pygments_lexer": "ipython3",
   "version": "3.9.15"
  },
  "orig_nbformat": 4,
  "vscode": {
   "interpreter": {
    "hash": "7758e92e9a61d7a3490898707f7eeb937c85e9d1e8d4e877cc6c187218f226d5"
   }
  }
 },
 "nbformat": 4,
 "nbformat_minor": 2
}
