{
 "cells": [
  {
   "cell_type": "code",
   "execution_count": 1,
   "metadata": {},
   "outputs": [
    {
     "name": "stdout",
     "output_type": "stream",
     "text": [
      "[1, 3, 5, 7, 9]\n"
     ]
    }
   ],
   "source": [
    "#多输入\n",
    "# map()是 Python 内置的高阶函数，它接收一个函数 f 和一个 list，并通过把函数 f 依次作用在 list 的每个元素上\n",
    "# 当输入的序列多余1格式，map对序列并行的执行函数操作\n",
    "list = list(map(int,input().split()))\n",
    "print(list)"
   ]
  },
  {
   "cell_type": "code",
   "execution_count": 4,
   "metadata": {},
   "outputs": [
    {
     "name": "stdout",
     "output_type": "stream",
     "text": [
      "False\n",
      "False\n"
     ]
    }
   ],
   "source": [
    "# 查看是否包含相同元素,除顺序外完全相同才是true\n",
    "print(sorted(\"python\") == sorted(\"PYTHON\"))\n",
    "print(sorted([1,2,3])==sorted([3,2,1]))"
   ]
  },
  {
   "cell_type": "code",
   "execution_count": 9,
   "metadata": {},
   "outputs": [
    {
     "name": "stdout",
     "output_type": "stream",
     "text": [
      "1\n"
     ]
    }
   ],
   "source": [
    "# 链式函数\n",
    "def add(x,y):\n",
    "    return x+y\n",
    "\n",
    "def sub(x,y):\n",
    "    return x-y\n",
    "\n",
    "x,y = 4,3\n",
    "print((sub if x>y else add)(x,y))"
   ]
  },
  {
   "cell_type": "code",
   "execution_count": 11,
   "metadata": {},
   "outputs": [
    {
     "name": "stdout",
     "output_type": "stream",
     "text": [
      "<zip object at 0x000001AFC7EA7480>\n",
      "(1, '醉乡民谣', '美国')\n",
      "(2, '驴得水', '中国')\n",
      "(3, '放牛班的春天', '法国')\n",
      "(4, '美丽人生', '意大利')\n",
      "(5, '辩护人', '韩国')\n",
      "(6, '被嫌弃的松子的一生', '日本')\n"
     ]
    }
   ],
   "source": [
    "lst1 = [1, 2, 3, 4, 5, 6]\n",
    "lst2 = ['醉乡民谣', '驴得水', '放牛班的春天', '美丽人生', '辩护人', '被嫌弃的松子的一生']\n",
    "lst3 = ['美国', '中国', '法国', '意大利', '韩国', '日本']\n",
    "print(zip(lst1, lst1, lst3))  #<zip object at 0x00000256CA6C7A88>\n",
    "for el in zip(lst1, lst2, lst3):\n",
    "    print(el)\n",
    "# zip() 函数用于将可迭代的对象作为参数, \n",
    "# 将对象中对应的元素打包成一个元组, \n",
    "# 然后返回由这些元组组成的列表. \n",
    "# 如果各个迭代器的元素个数不一致, 则返回列表长度与最短的对象相同"
   ]
  },
  {
   "cell_type": "code",
   "execution_count": 22,
   "metadata": {},
   "outputs": [
    {
     "name": "stdout",
     "output_type": "stream",
     "text": [
      "1\n",
      "3\n",
      "5\n",
      "7\n",
      "9\n"
     ]
    }
   ],
   "source": [
    "def func(i):    # 判断奇数\n",
    "    return i % 2 == 1\n",
    "lst = [1,2,3,4,5,6,7,8,9]\n",
    "l1 = filter(func, lst) #l1是迭代器\n",
    "# 咋获取filter长度\n",
    "for i in range(5):\n",
    "    print(next(l1))"
   ]
  },
  {
   "cell_type": "code",
   "execution_count": 5,
   "metadata": {},
   "outputs": [
    {
     "name": "stdout",
     "output_type": "stream",
     "text": [
      "18\n"
     ]
    }
   ],
   "source": [
    "code2 = \"5+6+7\"\n",
    "com2 = compile(code2, \"\", mode=\"eval\")\n",
    "print(eval(com2))  "
   ]
  }
 ],
 "metadata": {
  "kernelspec": {
   "display_name": "Python 3.9.15 ('base')",
   "language": "python",
   "name": "python3"
  },
  "language_info": {
   "codemirror_mode": {
    "name": "ipython",
    "version": 3
   },
   "file_extension": ".py",
   "mimetype": "text/x-python",
   "name": "python",
   "nbconvert_exporter": "python",
   "pygments_lexer": "ipython3",
   "version": "3.9.15"
  },
  "orig_nbformat": 4,
  "vscode": {
   "interpreter": {
    "hash": "7758e92e9a61d7a3490898707f7eeb937c85e9d1e8d4e877cc6c187218f226d5"
   }
  }
 },
 "nbformat": 4,
 "nbformat_minor": 2
}
