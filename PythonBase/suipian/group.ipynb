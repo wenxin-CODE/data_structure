{
 "metadata": {
  "language_info": {
   "codemirror_mode": {
    "name": "ipython",
    "version": 3
   },
   "file_extension": ".py",
   "mimetype": "text/x-python",
   "name": "python",
   "nbconvert_exporter": "python",
   "pygments_lexer": "ipython3",
   "version": "3.7.5-final"
  },
  "orig_nbformat": 2,
  "kernelspec": {
   "name": "python3",
   "language": "python",
   "display_name": "Python 3 (ipykernel)"
  }
 },
 "nbformat": 4,
 "nbformat_minor": 2,
 "cells": [
  {
   "cell_type": "code",
   "execution_count": 1,
   "metadata": {},
   "outputs": [],
   "source": [
    "# 数据的聚合&分组运算\n",
    "from pandas import *\n",
    "import numpy as np"
   ]
  },
  {
   "cell_type": "code",
   "execution_count": 2,
   "metadata": {},
   "outputs": [
    {
     "name": "stdout",
     "output_type": "stream",
     "text": [
      "a one\n",
      "============\n",
      "  key1 key2     data1     data2\n",
      "0    a  one  0.057374  0.883063\n",
      "4    a  one -0.509164  0.478364\n",
      "a two\n",
      "============\n",
      "  key1 key2     data1     data2\n",
      "1    a  two -0.458559  0.270633\n",
      "b one\n",
      "============\n",
      "  key1 key2     data1     data2\n",
      "2    b  one  1.465215 -1.403811\n",
      "b two\n",
      "============\n",
      "  key1 key2     data1     data2\n",
      "3    b  two  1.682756  1.183174\n",
      "+++++++++++++++++++++++\n",
      "{'a':   key1 key2     data1     data2\n",
      "0    a  one  0.057374  0.883063\n",
      "1    a  two -0.458559  0.270633\n",
      "4    a  one -0.509164  0.478364, 'b':   key1 key2     data1     data2\n",
      "2    b  one  1.465215 -1.403811\n",
      "3    b  two  1.682756  1.183174}\n"
     ]
    }
   ],
   "source": [
    "df = DataFrame({\n",
    "    'key1':['a','a','b','b','a'],\n",
    "    'key2':['one','two','one','two','one'],\n",
    "    'data1':np.random.randn(5),\n",
    "    'data2':np.random.randn(5)\n",
    "})\n",
    "# All arrays must be of the same length\n",
    "# print(df)\n",
    "grouped = df['data1'].groupby(df['key1'])\n",
    "grouped.mean()#求每组平均值\n",
    "\n",
    "# 传入两个键进行分组，得到层次化索引\n",
    "# 用来分组的键可以是任意长度的数组\n",
    "menas = df['data2'].groupby([df['key1'],df['key2']]).mean()\n",
    "# print(menas)\n",
    "\n",
    "# 输出分组后的元素\n",
    "for (k1,k2),group in df.groupby(['key1','key2']):\n",
    "    print(k1,k2)\n",
    "    print(\"============\")\n",
    "    print(group)\n",
    "\n",
    "# 转成字典\n",
    "print(\"+++++++++++++++++++++++\")\n",
    "pieces = dict(list(df.groupby('key1')))\n",
    "print(pieces)"
   ]
  },
  {
   "cell_type": "code",
   "execution_count": 4,
   "metadata": {},
   "outputs": [
    {
     "name": "stdout",
     "output_type": "stream",
     "text": [
      "            blue       red\n",
      "Joe     0.155346 -0.246243\n",
      "Steve  -1.852219 -0.159132\n",
      "Wes    -0.062567 -1.474921\n",
      "Jim     0.755704  1.506203\n",
      "Travis -1.642619 -0.835089\n"
     ]
    }
   ],
   "source": [
    "# 通过字典进行分组\n",
    "people = DataFrame(\n",
    "    np.random.randn(5,5),\n",
    "    columns=['a','b','c','d','e'],\n",
    "    index=['Joe','Steve','Wes','Jim','Travis']\n",
    ")\n",
    "# people.iloc[2:3,['b','c']] = np.nan\n",
    "mapping = {\n",
    "    'a':'red','b':'red','c':'blue',\n",
    "    'd':'blue','e':'red','f':'orange'\n",
    "}\n",
    "\n",
    "by_column = people.groupby(mapping,axis=1)\n",
    "print(by_column.sum())"
   ]
  },
  {
   "cell_type": "code",
   "execution_count": 3,
   "metadata": {},
   "outputs": [],
   "source": []
  }
 ]
}