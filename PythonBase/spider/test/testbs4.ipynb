{
 "cells": [
  {
   "cell_type": "code",
   "execution_count": 1,
   "metadata": {},
   "outputs": [
    {
     "name": "stdout",
     "output_type": "stream",
     "text": [
      "百度一下，你就知道\n",
      "{'class': ['mnav'], 'href': 'http://news.baidu.com', 'name': 'tj_trnews'}\n"
     ]
    }
   ],
   "source": [
    "from bs4 import BeautifulSoup\n",
    "\n",
    "file = open(\"./baidu.html\",\"rb\")\n",
    "html = file.read() #创建一个对象\n",
    "bs = BeautifulSoup(html,\"html.parser\") #创建一个解析器，解析html文件对象。这一步操作后形成一个文档树\n",
    "\n",
    "print(bs.title.string) #输出第一个标签及其里面的内容\n",
    "print(bs.a.attrs) #输出标签中的属性，字典型"
   ]
  },
  {
   "cell_type": "code",
   "execution_count": 2,
   "metadata": {},
   "outputs": [
    {
     "name": "stdout",
     "output_type": "stream",
     "text": [
      "['\\n', <meta content=\"text/html;charset=utf-8\" http-equiv=\"content-type\"/>, '\\n', <meta content=\"IE=Edge\" http-equiv=\"X-UA-Compatible\"/>, '\\n', <meta content=\"always\" name=\"referrer\"/>, '\\n', <linl href=\"https://ss1.bdstatic.com/5eN1bjq8AAUYm2zgoY3K/r/www/cache/bdorz/baidu.min.css\" rel=\"stylesheet\" type=\"text/css\"></linl>, '\\n', <title>百度一下，你就知道</title>, '\\n']\n"
     ]
    }
   ],
   "source": [
    "#遍历文档内容，输出一个列表。可以利用当前节点的子节点、父节点、兄弟节点访问\n",
    "print(bs.head.contents)"
   ]
  },
  {
   "cell_type": "code",
   "execution_count": 4,
   "metadata": {},
   "outputs": [
    {
     "name": "stdout",
     "output_type": "stream",
     "text": [
      "[<a class=\"mnav\" href=\"http://news.baidu.com\" name=\"tj_trnews\"><!--新闻-->&gt;</a>, <a class=\"mnav\" href=\"http://news.baidu.com\" name=\"tj_trnews\">新闻</a>, <a class=\"mnav\" href=\"https://www.hao123.com\" name=\"tj_trhao123\">hao123</a>, <a class=\"mnav\" href=\"http://map.baidu.com\" name=\"tj_trmap\">地图</a>, <a class=\"mnav\" href=\"http://v.baidu.com\" name=\"tj_trvideo\">视频</a>, <a class=\"mnav\" href=\"http://tieba.baidu.com\" name=\"tj_trtieba\">贴吧</a>, <a class=\"bri\" href=\"//www.baidu.com/more/\" name=\"tj_briicon\">更多产品</a>]\n"
     ]
    }
   ],
   "source": [
    "# 查找所有a标签,返回列表,一个元素就是一个完整的标签\n",
    "t_list = bs.find_all(\"a\")\n",
    "print(t_list)"
   ]
  },
  {
   "cell_type": "code",
   "execution_count": 5,
   "metadata": {},
   "outputs": [
    {
     "name": "stdout",
     "output_type": "stream",
     "text": [
      "[<head>\n",
      "<meta content=\"text/html;charset=utf-8\" http-equiv=\"content-type\"/>\n",
      "<meta content=\"IE=Edge\" http-equiv=\"X-UA-Compatible\"/>\n",
      "<meta content=\"always\" name=\"referrer\"/>\n",
      "<linl href=\"https://ss1.bdstatic.com/5eN1bjq8AAUYm2zgoY3K/r/www/cache/bdorz/baidu.min.css\" rel=\"stylesheet\" type=\"text/css\"></linl>\n",
      "<title>百度一下，你就知道</title>\n",
      "</head>, <meta content=\"text/html;charset=utf-8\" http-equiv=\"content-type\"/>, <meta content=\"IE=Edge\" http-equiv=\"X-UA-Compatible\"/>, <meta content=\"always\" name=\"referrer\"/>, <a class=\"mnav\" href=\"http://news.baidu.com\" name=\"tj_trnews\"><!--新闻-->&gt;</a>, <a class=\"mnav\" href=\"http://news.baidu.com\" name=\"tj_trnews\">新闻</a>, <a class=\"mnav\" href=\"https://www.hao123.com\" name=\"tj_trhao123\">hao123</a>, <a class=\"mnav\" href=\"http://map.baidu.com\" name=\"tj_trmap\">地图</a>, <a class=\"mnav\" href=\"http://v.baidu.com\" name=\"tj_trvideo\">视频</a>, <a class=\"mnav\" href=\"http://tieba.baidu.com\" name=\"tj_trtieba\">贴吧</a>, <a class=\"bri\" href=\"//www.baidu.com/more/\" name=\"tj_briicon\">更多产品</a>]\n"
     ]
    }
   ],
   "source": [
    "import re\n",
    "\n",
    "# 正则表达式，找到所有包含a的标签\n",
    "t_list = bs.find_all(re.compile(\"a\"))\n",
    "print(t_list)"
   ]
  },
  {
   "cell_type": "code",
   "execution_count": 7,
   "metadata": {},
   "outputs": [
    {
     "name": "stdout",
     "output_type": "stream",
     "text": [
      "<meta content=\"always\" name=\"referrer\"/>\n",
      "<a class=\"mnav\" href=\"http://news.baidu.com\" name=\"tj_trnews\"><!--新闻-->&gt;</a>\n",
      "<a class=\"mnav\" href=\"http://news.baidu.com\" name=\"tj_trnews\">新闻</a>\n",
      "<a class=\"mnav\" href=\"https://www.hao123.com\" name=\"tj_trhao123\">hao123</a>\n",
      "<a class=\"mnav\" href=\"http://map.baidu.com\" name=\"tj_trmap\">地图</a>\n",
      "<a class=\"mnav\" href=\"http://v.baidu.com\" name=\"tj_trvideo\">视频</a>\n",
      "<a class=\"mnav\" href=\"http://tieba.baidu.com\" name=\"tj_trtieba\">贴吧</a>\n",
      "<a class=\"bri\" href=\"//www.baidu.com/more/\" name=\"tj_briicon\">更多产品</a>\n"
     ]
    }
   ],
   "source": [
    "# 按函数要求搜索\n",
    "def name_is_exit(tag):\n",
    "    return tag.has_attr(\"name\")\n",
    "    # 返回标签里面有name的所有标签\n",
    "\n",
    "for item in bs.find_all(name_is_exit):\n",
    "    print(item)"
   ]
  },
  {
   "cell_type": "code",
   "execution_count": 8,
   "metadata": {},
   "outputs": [
    {
     "name": "stdout",
     "output_type": "stream",
     "text": [
      "<div id=\"head\">\n",
      "<div class=\"head_wrapper\">\n",
      "<div id=\"u1\">\n",
      "<a class=\"mnav\" href=\"http://news.baidu.com\" name=\"tj_trnews\"><!--新闻-->&gt;</a>\n",
      "<a class=\"mnav\" href=\"http://news.baidu.com\" name=\"tj_trnews\">新闻</a>\n",
      "<a class=\"mnav\" href=\"https://www.hao123.com\" name=\"tj_trhao123\">hao123</a>\n",
      "<a class=\"mnav\" href=\"http://map.baidu.com\" name=\"tj_trmap\">地图</a>\n",
      "<a class=\"mnav\" href=\"http://v.baidu.com\" name=\"tj_trvideo\">视频</a>\n",
      "<a class=\"mnav\" href=\"http://tieba.baidu.com\" name=\"tj_trtieba\">贴吧</a>\n",
      "<a class=\"bri\" href=\"//www.baidu.com/more/\" name=\"tj_briicon\">更多产品</a>\n",
      "</div>\n",
      "</div>\n",
      "</div>\n"
     ]
    }
   ],
   "source": [
    "# 使用参数\n",
    "# 找出id=head标签下所有内容\n",
    "for item in bs.find_all(id=\"head\"):\n",
    "    print(item)"
   ]
  },
  {
   "cell_type": "code",
   "execution_count": 11,
   "metadata": {},
   "outputs": [
    {
     "name": "stdout",
     "output_type": "stream",
     "text": [
      "hao123\n",
      "地图\n",
      "视频\n"
     ]
    }
   ],
   "source": [
    "for item in bs.find_all(text = [\"hao123\",\"地图\",\"视频\",\"亲亲\"]):\n",
    "    print(item)\n",
    "# 还可应用正则表达式找特定内容"
   ]
  },
  {
   "cell_type": "code",
   "execution_count": 13,
   "metadata": {},
   "outputs": [
    {
     "name": "stdout",
     "output_type": "stream",
     "text": [
      "<a class=\"bri\" href=\"//www.baidu.com/more/\" name=\"tj_briicon\">更多产品</a>\n"
     ]
    }
   ],
   "source": [
    "# css选择器\n",
    "\n",
    "t_list = bs.select('title') #通过标签查找\n",
    "t_list1 = bs.select('.mnav') #通过类名查找\n",
    "t_list2 = bs.select('#u1') #通过id查找\n",
    "t_list3 = bs.select(\"a[class='bri']\") #通过标签的属性查找\n",
    "\n",
    "for item in t_list3:\n",
    "    print(item)"
   ]
  },
  {
   "cell_type": "code",
   "execution_count": 16,
   "metadata": {},
   "outputs": [
    {
     "name": "stdout",
     "output_type": "stream",
     "text": [
      "<a class=\"mnav\" href=\"http://map.baidu.com\" name=\"tj_trmap\">地图</a>\n"
     ]
    }
   ],
   "source": [
    "# 标签嵌套\n",
    "t_list = bs.select(\"body > div > div > div > div a\")\n",
    "print(t_list[3])"
   ]
  },
  {
   "cell_type": "code",
   "execution_count": 19,
   "metadata": {},
   "outputs": [
    {
     "name": "stdout",
     "output_type": "stream",
     "text": [
      "更多产品\n"
     ]
    }
   ],
   "source": [
    "# 与mnav同级的标签，但名字是bri，他里面的内容\n",
    "\n",
    "t_list = bs.select(\".mnav ~ .bri\")\n",
    "print(t_list[0].get_text())"
   ]
  }
 ],
 "metadata": {
  "kernelspec": {
   "display_name": "Python 3.9.15 ('base')",
   "language": "python",
   "name": "python3"
  },
  "language_info": {
   "codemirror_mode": {
    "name": "ipython",
    "version": 3
   },
   "file_extension": ".py",
   "mimetype": "text/x-python",
   "name": "python",
   "nbconvert_exporter": "python",
   "pygments_lexer": "ipython3",
   "version": "3.9.15"
  },
  "orig_nbformat": 4,
  "vscode": {
   "interpreter": {
    "hash": "7758e92e9a61d7a3490898707f7eeb937c85e9d1e8d4e877cc6c187218f226d5"
   }
  }
 },
 "nbformat": 4,
 "nbformat_minor": 2
}
