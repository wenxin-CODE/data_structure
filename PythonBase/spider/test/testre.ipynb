{
 "cells": [
  {
   "cell_type": "code",
   "execution_count": 2,
   "metadata": {},
   "outputs": [],
   "source": [
    "import re"
   ]
  },
  {
   "cell_type": "markdown",
   "metadata": {},
   "source": [
    ".表示任何单个字符\n",
    "[]对单个字符给出取值范围\n",
    "[^ ]对单个字符给出排除范围\n",
    "*前一个字符0或无限次扩充\n",
    "+前一个字符1或无限次扩充\n",
    "?前一个字符1或0次扩充\n",
    "|左右表达式任意一个，abc|def\n",
    "\n",
    "{m}前一个字符出现m次\n",
    "{m,n}前一个字符出现m到n次\n",
    "^abc以abc开头的字符串\n",
    "$abc以abc结尾的字符串\n",
    "\\d数字\n",
    "\\w字符 a-zA-Z0-9_"
   ]
  },
  {
   "cell_type": "code",
   "execution_count": 3,
   "metadata": {},
   "outputs": [
    {
     "name": "stdout",
     "output_type": "stream",
     "text": [
      "<re.Match object; span=(4, 6), match='AA'>\n"
     ]
    }
   ],
   "source": [
    "# 创建模式对象，及正则表达式，来验证其它字符串\n",
    "pat = re.compile(\"AA\")\n",
    "# m = re.search('asb','asdasb') 另一种\n",
    "print(pat.search(\"BDFSAAA\")) #返回第一个匹配的"
   ]
  },
  {
   "cell_type": "code",
   "execution_count": 5,
   "metadata": {},
   "outputs": [
    {
     "name": "stdout",
     "output_type": "stream",
     "text": [
      "['V', 'D']\n"
     ]
    }
   ],
   "source": [
    "print(re.findall('[^a-z]','advafvVDascsafvaev')) #返回列表"
   ]
  },
  {
   "cell_type": "code",
   "execution_count": 6,
   "metadata": {},
   "outputs": [
    {
     "name": "stdout",
     "output_type": "stream",
     "text": [
      "['advafv', 'ascsafvaev']\n"
     ]
    }
   ],
   "source": [
    "print(re.findall('[a-z]+','advafvVDascsafvaev'))"
   ]
  },
  {
   "cell_type": "code",
   "execution_count": 7,
   "metadata": {},
   "outputs": [
    {
     "name": "stdout",
     "output_type": "stream",
     "text": [
      "AdjvfAkihfAjfwjv;Ah\n"
     ]
    }
   ],
   "source": [
    "# sub替换，可以去除换行\n",
    "print(re.sub('a','A','adjvfakihfajfwjv;ah')) #把所有a替换为A\n",
    "# r\"aa\\n\"防止转义字符生效"
   ]
  }
 ],
 "metadata": {
  "kernelspec": {
   "display_name": "Python 3.9.15 ('base')",
   "language": "python",
   "name": "python3"
  },
  "language_info": {
   "codemirror_mode": {
    "name": "ipython",
    "version": 3
   },
   "file_extension": ".py",
   "mimetype": "text/x-python",
   "name": "python",
   "nbconvert_exporter": "python",
   "pygments_lexer": "ipython3",
   "version": "3.9.15"
  },
  "orig_nbformat": 4,
  "vscode": {
   "interpreter": {
    "hash": "7758e92e9a61d7a3490898707f7eeb937c85e9d1e8d4e877cc6c187218f226d5"
   }
  }
 },
 "nbformat": 4,
 "nbformat_minor": 2
}
