{
 "cells": [
  {
   "cell_type": "code",
   "execution_count": null,
   "metadata": {},
   "outputs": [],
   "source": [
    "import urllib.request\n",
    "import urllib.parse #url解码\n",
    "\n",
    "# 获取一个get请求\n",
    "req = urllib.request.urlopen(\"http://www.baidu.com\")\n",
    "# 返回html文件，读取文件并使用utf-8解码\n",
    "print(req.read().decode('utf-8'))"
   ]
  },
  {
   "cell_type": "code",
   "execution_count": null,
   "metadata": {},
   "outputs": [],
   "source": [
    "# 获取一个post请求，模拟用户登录就用这个\n",
    "data = bytes(urllib.parse.urlencode({\"hello\":\"world\"}),encoding='utf-8') #对请求参数编码\n",
    "reqs = urllib.request.urlopen(\"http://httpbin.org/post\",data=data)\n",
    "print(reqs.read().decode('utf-8'))"
   ]
  },
  {
   "cell_type": "code",
   "execution_count": null,
   "metadata": {},
   "outputs": [],
   "source": [
    "# 超时处理\n",
    "# 应对网络长时间不返回\n",
    "try:\n",
    "    reqs = urllib.request.urlopen(\"http://httpbin.org/get\",timeout=0.001)\n",
    "    print(reqs.read().decode('utf-8'))\n",
    "except urllib.error.URLError as e:\n",
    "    print(\"time out\")\n"
   ]
  },
  {
   "cell_type": "code",
   "execution_count": null,
   "metadata": {},
   "outputs": [],
   "source": [
    "# 提取部分信息\n",
    "req = urllib.request.urlopen(\"http://www.baidu.com\")\n",
    "print(req.status) #获取返回状态，如200\n",
    "print(req.getheaders()) #获取请求头，具体某一个用getheader(\"属性名称\")"
   ]
  },
  {
   "cell_type": "code",
   "execution_count": null,
   "metadata": {},
   "outputs": [],
   "source": [
    "# 伪装获取\n",
    "header = {\"User-Agent\":\"Mozilla/5.0 (Windows NT 10.0; Win64; x64) AppleWebKit/537.36 (KHTML, like Gecko) Chrome/110.0.0.0 Safari/537.36 Edg/110.0.1587.63\"}\n",
    "req = urllib.request.Request(\"https://movie.douban.com\",headers=header) #这里构建了一个访问对象\n",
    "res = urllib.request.urlopen(req)\n",
    "print(res.read().decode('utf-8'))"
   ]
  }
 ],
 "metadata": {
  "kernelspec": {
   "display_name": "Python 3.9.15 ('base')",
   "language": "python",
   "name": "python3"
  },
  "language_info": {
   "name": "python",
   "version": "3.9.15"
  },
  "orig_nbformat": 4,
  "vscode": {
   "interpreter": {
    "hash": "7758e92e9a61d7a3490898707f7eeb937c85e9d1e8d4e877cc6c187218f226d5"
   }
  }
 },
 "nbformat": 4,
 "nbformat_minor": 2
}
