{
 "cells": [
  {
   "cell_type": "code",
   "execution_count": 1,
   "metadata": {},
   "outputs": [
    {
     "name": "stdout",
     "output_type": "stream",
     "text": [
      "执行完毕\n"
     ]
    }
   ],
   "source": [
    "import sqlite3\n",
    "\n",
    "# 打开或创建数据库文件\n",
    "conn = sqlite3.connect(\"test.db\")\n",
    "# 获取游标，建立连接\n",
    "c = conn.cursor()\n",
    "# 执行sql语句\n",
    "sql = '''\n",
    "    create table company\n",
    "    (\n",
    "        id int primary key not null,\n",
    "        name text not null,\n",
    "        age int not null,\n",
    "        address text not null,\n",
    "        salary real\n",
    "    );\n",
    "'''\n",
    "c.execute(sql)\n",
    "# 提交操作\n",
    "conn.commit()\n",
    "# 关闭数据库\n",
    "conn.close()\n",
    "print(\"执行完毕\")"
   ]
  },
  {
   "cell_type": "code",
   "execution_count": 3,
   "metadata": {},
   "outputs": [
    {
     "name": "stdout",
     "output_type": "stream",
     "text": [
      "执行完毕\n"
     ]
    }
   ],
   "source": [
    "# 插入数据\n",
    "conn = sqlite3.connect(\"test.db\")\n",
    "# 获取游标，建立连接\n",
    "c = conn.cursor()\n",
    "# 执行sql语句\n",
    "sql = '''\n",
    "    insert into company (id,name,age,address,salary)\n",
    "    values (1,'mike',12,'beijing',10000),\n",
    "    (2,'alice',12,'tianjing',10000);\n",
    "'''\n",
    "c.execute(sql)\n",
    "# 提交操作\n",
    "conn.commit()\n",
    "# 关闭数据库\n",
    "conn.close()\n",
    "print(\"执行完毕\")"
   ]
  },
  {
   "cell_type": "code",
   "execution_count": 1,
   "metadata": {},
   "outputs": [
    {
     "name": "stdout",
     "output_type": "stream",
     "text": [
      "<class 'sqlite3.Cursor'>\n",
      "<class 'tuple'>\n",
      "名字： mike\n",
      "工资： 10000.0\n",
      "<class 'tuple'>\n",
      "名字： alice\n",
      "工资： 10000.0\n",
      "查询完毕\n"
     ]
    }
   ],
   "source": [
    "import sqlite3\n",
    "\n",
    "# 查询数据\n",
    "conn = sqlite3.connect(\"test.db\")\n",
    "# 获取游标，建立连接\n",
    "c = conn.cursor()\n",
    "# 执行sql语句\n",
    "sql = '''\n",
    "    select * from company;\n",
    "'''\n",
    "# 获取查询结果\n",
    "cou = c.execute(sql)\n",
    "print(type(cou))\n",
    "for i in cou:\n",
    "    # 返回的是tuple\n",
    "    print(type(i))\n",
    "    print(\"名字：\",i[1])\n",
    "    print(\"工资：\",i[4])\n",
    "# 关闭数据库\n",
    "conn.close()\n",
    "print(\"查询完毕\")"
   ]
  },
  {
   "cell_type": "code",
   "execution_count": null,
   "metadata": {},
   "outputs": [],
   "source": []
  }
 ],
 "metadata": {
  "kernelspec": {
   "display_name": "Python 3.9.15 ('base')",
   "language": "python",
   "name": "python3"
  },
  "language_info": {
   "codemirror_mode": {
    "name": "ipython",
    "version": 3
   },
   "file_extension": ".py",
   "mimetype": "text/x-python",
   "name": "python",
   "nbconvert_exporter": "python",
   "pygments_lexer": "ipython3",
   "version": "3.9.15"
  },
  "orig_nbformat": 4,
  "vscode": {
   "interpreter": {
    "hash": "7758e92e9a61d7a3490898707f7eeb937c85e9d1e8d4e877cc6c187218f226d5"
   }
  }
 },
 "nbformat": 4,
 "nbformat_minor": 2
}
