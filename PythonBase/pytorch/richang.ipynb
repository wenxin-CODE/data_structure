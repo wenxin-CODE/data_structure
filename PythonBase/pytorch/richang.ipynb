{
 "cells": [
  {
   "cell_type": "code",
   "execution_count": 4,
   "metadata": {},
   "outputs": [
    {
     "name": "stdout",
     "output_type": "stream",
     "text": [
      "1.11.0+cpu\n",
      "None\n",
      "None\n",
      "False\n"
     ]
    }
   ],
   "source": [
    "import torch\n",
    "import torch.nn as nn\n",
    "import torchvision\n",
    "\n",
    "print(torch.__version__)\n",
    "print(torch.version.cuda)\n",
    "print(torch.backends.cudnn.version())\n",
    "print(torch.cuda.is_available())#输出false，表示当前pytorch无法使用显卡"
   ]
  },
  {
   "cell_type": "code",
   "execution_count": 7,
   "metadata": {},
   "outputs": [],
   "source": [
    "# 在同一个设备上，应该保证可复现性。具体做法是，在程序开始的时候固定torch的随机种子，同时也把numpy的随机种子固定。\n",
    "import numpy as np\n",
    "\n",
    "np.random.seed(0)\n",
    "torch.manual_seed(0)#设置随机数种子\n",
    "torch.cuda.manual_seed_all(0)#多个GPU时，为所有GPU设置种子\n",
    "\n",
    "torch.backends.cudnn.deterministic = True\n",
    "torch.backends.cudnn.benchmark = False"
   ]
  },
  {
   "cell_type": "code",
   "execution_count": 8,
   "metadata": {},
   "outputs": [
    {
     "name": "stdout",
     "output_type": "stream",
     "text": [
      "cpu\n"
     ]
    }
   ],
   "source": [
    "# 显卡设置\n",
    "device = torch.device('cuda' if torch.cuda.is_available() else 'cpu')\n",
    "print(device)\n",
    "\n",
    "# import os\n",
    "# os.environ['CUDA_VISIBLE_DEVICES'] = '0,1'\n",
    "# torch.cuda.empty_cache()"
   ]
  },
  {
   "cell_type": "code",
   "execution_count": 9,
   "metadata": {},
   "outputs": [
    {
     "name": "stdout",
     "output_type": "stream",
     "text": [
      "torch.FloatTensor\n",
      "torch.Size([3, 4, 5])\n",
      "3\n"
     ]
    }
   ],
   "source": [
    "#张量处理\n",
    "tensor = torch.randn(3,4,5)\n",
    "print(tensor.type())\n",
    "print(tensor.size())\n",
    "print(tensor.dim())"
   ]
  },
  {
   "cell_type": "code",
   "execution_count": 11,
   "metadata": {},
   "outputs": [
    {
     "data": {
      "text/plain": [
       "tensor([[[-9.9507e-01,  4.5089e-01,  1.4671e-01,  ...,  3.4687e-01,\n",
       "          -2.9055e-01, -1.7921e+00],\n",
       "         [-5.8186e-01, -2.5670e-01,  7.5862e-01,  ..., -3.1995e-02,\n",
       "          -4.1721e-01, -7.8874e-01],\n",
       "         [ 1.1152e+00, -1.1732e+00,  1.7059e-01,  ...,  9.0192e-01,\n",
       "           9.1724e-01,  8.2328e-01],\n",
       "         ...,\n",
       "         [ 1.2963e+00, -9.4490e-01,  5.7915e-01,  ..., -8.5010e-01,\n",
       "          -1.0993e+00,  8.6259e-01],\n",
       "         [-2.2042e-01,  3.9036e-01, -9.8582e-02,  ..., -1.8150e-01,\n",
       "           9.1908e-02,  4.3104e-02],\n",
       "         [ 1.9219e+00,  2.1617e+00, -6.1160e-01,  ...,  1.5528e-01,\n",
       "          -1.9943e+00, -1.0316e+00]],\n",
       "\n",
       "        [[-2.3882e+00,  1.0923e+00,  6.3999e-01,  ..., -9.5147e-01,\n",
       "           4.0850e-02,  2.7926e-01],\n",
       "         [-7.1295e-01,  1.1391e-01,  5.9903e-01,  ...,  1.7090e-01,\n",
       "           5.9664e-01, -3.2352e-01],\n",
       "         [-1.7379e+00, -1.2598e+00,  2.7185e-01,  ..., -1.0333e+00,\n",
       "          -2.4391e-01, -2.1693e-01],\n",
       "         ...,\n",
       "         [ 8.2945e-01, -1.7793e+00,  9.3147e-01,  ...,  2.0978e-01,\n",
       "          -3.2148e+00, -3.1787e-01],\n",
       "         [ 1.4117e-01, -8.1717e-01,  1.1234e+00,  ...,  9.9212e-01,\n",
       "           1.8956e+00,  2.9508e-01],\n",
       "         [ 1.9193e-01, -5.9670e-01,  3.4295e-01,  ..., -1.2804e+00,\n",
       "          -1.7449e+00,  7.1708e-01]],\n",
       "\n",
       "        [[ 7.1379e-01, -6.6333e-01,  1.0524e+00,  ...,  2.0533e+00,\n",
       "          -7.9627e-01, -9.9690e-01],\n",
       "         [ 2.7529e-01, -1.4219e+00, -6.2855e-01,  ..., -1.3472e+00,\n",
       "           8.2672e-02,  5.3864e-01],\n",
       "         [-3.5758e-01, -2.1023e-01, -2.0285e+00,  ...,  3.4313e-01,\n",
       "           7.0022e-01,  1.6138e+00],\n",
       "         ...,\n",
       "         [ 2.5099e-01, -1.4003e+00,  6.5376e-01,  ...,  4.4966e-01,\n",
       "           3.2110e-01,  4.2598e-01],\n",
       "         [-8.9031e-01,  1.0223e+00, -1.8973e+00,  ..., -1.1942e+00,\n",
       "          -1.3702e+00, -1.1444e+00],\n",
       "         [ 4.2370e-01,  6.9348e-01,  4.4718e-02,  ..., -1.2818e+00,\n",
       "           2.8415e-01,  1.2318e+00]],\n",
       "\n",
       "        ...,\n",
       "\n",
       "        [[ 1.0113e+00, -5.9237e-02,  1.2974e-01,  ..., -5.0613e-01,\n",
       "          -9.9826e-01, -8.6872e-01],\n",
       "         [ 1.4320e+00,  2.2420e+00, -8.3892e-02,  ...,  4.8049e-01,\n",
       "          -1.2147e-02, -1.5252e+00],\n",
       "         [ 1.2196e-01,  9.1906e-01,  1.2272e-03,  ..., -9.8205e-02,\n",
       "           2.7062e-01, -7.1028e-01],\n",
       "         ...,\n",
       "         [-2.4992e-01, -1.3572e-01, -3.8305e-01,  ..., -6.7034e-01,\n",
       "           7.6584e-01,  1.8899e-01],\n",
       "         [ 1.4041e+00,  2.7856e-01,  1.3397e+00,  ..., -2.3389e-01,\n",
       "          -7.8920e-02,  9.1205e-01],\n",
       "         [-1.8350e-01,  8.1860e-01, -9.8711e-02,  ...,  1.2246e+00,\n",
       "           1.5626e+00,  1.6686e+00]],\n",
       "\n",
       "        [[ 4.6437e-01, -1.8114e+00, -6.4023e-01,  ...,  8.7829e-02,\n",
       "          -6.3912e-01,  4.9878e-01],\n",
       "         [-1.1809e+00, -3.8909e-01, -1.0589e+00,  ..., -4.0348e-02,\n",
       "          -1.0239e+00, -7.1563e-01],\n",
       "         [ 1.1865e+00, -4.8292e-01, -6.7639e-01,  ...,  2.5219e-01,\n",
       "          -9.2468e-01, -2.0877e-01],\n",
       "         ...,\n",
       "         [ 8.7024e-01,  2.3480e-01,  4.5666e-01,  ...,  5.7742e-01,\n",
       "          -6.8937e-01,  1.0730e+00],\n",
       "         [ 1.4065e-01,  4.5920e-01, -3.5110e-01,  ...,  9.5624e-02,\n",
       "          -2.3467e+00,  2.4157e-01],\n",
       "         [-1.1767e+00,  4.5980e-01,  4.1333e-01,  ..., -4.6395e-01,\n",
       "          -6.9644e-01,  6.6585e-01]],\n",
       "\n",
       "        [[-2.4263e-01, -7.9807e-01,  5.5958e-01,  ..., -7.2828e-01,\n",
       "           1.2800e+00, -2.1905e-01],\n",
       "         [-3.1086e-01,  7.4047e-01,  9.6573e-01,  ..., -5.0713e-01,\n",
       "           7.0260e-01, -8.5787e-01],\n",
       "         [ 2.7317e+00,  1.0906e-01, -8.9132e-02,  ...,  7.8927e-01,\n",
       "          -4.0125e-01, -1.4858e+00],\n",
       "         ...,\n",
       "         [-2.4502e-01, -1.3706e-01,  1.3190e-01,  ..., -5.1494e-02,\n",
       "           8.2147e-01, -3.8204e-01],\n",
       "         [-7.7325e-01,  7.7371e-01,  2.9647e-01,  ..., -1.2004e+00,\n",
       "          -1.1874e+00,  2.1483e+00],\n",
       "         [-1.9807e+00, -1.5700e+00,  8.7842e-01,  ..., -1.8496e+00,\n",
       "           7.3980e-01, -1.4966e-01]]], names=('N', 'H', 'W'))"
      ]
     },
     "execution_count": 11,
     "metadata": {},
     "output_type": "execute_result"
    }
   ],
   "source": [
    "# 张量命名\n",
    "NCHW = ['N','C','H','W']\n",
    "images = torch.randn(32, 3, 56, 56, names=NCHW)\n",
    "images.sum('C')\n",
    "images.select('C', index=0)"
   ]
  },
  {
   "cell_type": "code",
   "execution_count": 14,
   "metadata": {},
   "outputs": [],
   "source": [
    "# 设置默认类型，pytorch中的FloatTensor远远快于DoubleTensor\n",
    "torch.set_default_tensor_type(torch.FloatTensor)\n",
    "\n",
    "# 类型转换\n",
    "# tensor = tensor.cuda()\n",
    "tensor = tensor.cpu()\n",
    "# tensor = tensor.float()\n",
    "# tensor = tensor.long()"
   ]
  },
  {
   "cell_type": "code",
   "execution_count": 17,
   "metadata": {},
   "outputs": [
    {
     "name": "stdout",
     "output_type": "stream",
     "text": [
      "[[[-1.1258398  -1.1523602  -0.25057858 -0.4338788   0.84871036]\n",
      "  [ 0.69200915 -0.31601277 -2.1152194   0.32227492 -1.2633348 ]\n",
      "  [ 0.3499832   0.30813393  0.11984151  1.2376579   1.1167772 ]\n",
      "  [-0.24727815 -1.3526537  -1.6959312   0.5666506   0.79350835]]\n",
      "\n",
      " [[ 0.59883946 -1.5550951  -0.3413604   1.8530061   0.7501895 ]\n",
      "  [-0.58549756 -0.17339675  0.18347794  1.3893661   1.5863342 ]\n",
      "  [ 0.94629836 -0.84367675 -0.6135831   0.03159274 -0.49267697]\n",
      "  [ 0.24841475  0.43969584  0.11241119  0.64079237  0.44115627]]\n",
      "\n",
      " [[-0.10230965  0.792444   -0.2896677   0.05250749  0.59432304]\n",
      "  [ 1.5419426   0.5073344  -0.59103316 -0.5692481   0.9199714 ]\n",
      "  [ 1.1108161   1.2898741  -1.4959149  -0.19383712  0.4455122 ]\n",
      "  [ 1.3252748  -1.629326   -0.54974365 -0.47983426 -0.49968153]]] \n",
      " tensor([[[-1.1258, -1.1524, -0.2506, -0.4339,  0.8487],\n",
      "         [ 0.6920, -0.3160, -2.1152,  0.3223, -1.2633],\n",
      "         [ 0.3500,  0.3081,  0.1198,  1.2377,  1.1168],\n",
      "         [-0.2473, -1.3527, -1.6959,  0.5667,  0.7935]],\n",
      "\n",
      "        [[ 0.5988, -1.5551, -0.3414,  1.8530,  0.7502],\n",
      "         [-0.5855, -0.1734,  0.1835,  1.3894,  1.5863],\n",
      "         [ 0.9463, -0.8437, -0.6136,  0.0316, -0.4927],\n",
      "         [ 0.2484,  0.4397,  0.1124,  0.6408,  0.4412]],\n",
      "\n",
      "        [[-0.1023,  0.7924, -0.2897,  0.0525,  0.5943],\n",
      "         [ 1.5419,  0.5073, -0.5910, -0.5692,  0.9200],\n",
      "         [ 1.1108,  1.2899, -1.4959, -0.1938,  0.4455],\n",
      "         [ 1.3253, -1.6293, -0.5497, -0.4798, -0.4997]]])\n"
     ]
    }
   ],
   "source": [
    "# tensor和ndarray互换\n",
    "# tensor用逗号隔开，ndarray用空格隔开\n",
    "ndarray = tensor.cpu().numpy()\n",
    "tensor = torch.from_numpy(ndarray).float()\n",
    "print(ndarray,'\\n',tensor)"
   ]
  },
  {
   "cell_type": "code",
   "execution_count": 21,
   "metadata": {},
   "outputs": [
    {
     "name": "stdout",
     "output_type": "stream",
     "text": [
      "tensor(0.0316)\n"
     ]
    },
    {
     "data": {
      "text/plain": [
       "0.03159274160861969"
      ]
     },
     "execution_count": 21,
     "metadata": {},
     "output_type": "execute_result"
    }
   ],
   "source": [
    "print(tensor[1,2,3])#取近似数\n",
    "tensor[1,2,3].item()#取精确值"
   ]
  },
  {
   "cell_type": "code",
   "execution_count": 29,
   "metadata": {},
   "outputs": [
    {
     "name": "stdout",
     "output_type": "stream",
     "text": [
      "torch.Size([2, 3, 4])\n",
      "(12, 4, 1)\n",
      "torch.Size([6, 4])\n",
      "(4, 1)\n"
     ]
    }
   ],
   "source": [
    "# 张量连续性stride[i]=stride[i+1]*size[i+1]\n",
    "# 相比torch.view，torch.reshape可以自动处理输入张量不连续的情况。\n",
    "tensor = torch.rand(2,3,4)\n",
    "print(tensor.size())\n",
    "print(tensor.stride())\n",
    "shape = (6, 4)\n",
    "tensor = torch.reshape(tensor, shape)\n",
    "print(tensor.size())\n",
    "print(tensor.stride())"
   ]
  },
  {
   "cell_type": "code",
   "execution_count": 30,
   "metadata": {},
   "outputs": [
    {
     "ename": "IndexError",
     "evalue": "Dimension out of range (expected to be in range of [-2, 1], but got 3)",
     "output_type": "error",
     "traceback": [
      "\u001b[1;31m---------------------------------------------------------------------------\u001b[0m",
      "\u001b[1;31mIndexError\u001b[0m                                Traceback (most recent call last)",
      "Cell \u001b[1;32mIn[30], line 6\u001b[0m\n\u001b[0;32m      1\u001b[0m \u001b[38;5;66;03m# 打乱顺序\u001b[39;00m\n\u001b[0;32m      2\u001b[0m \u001b[38;5;66;03m# tensor = tensor[torch.randperm(tensor.size(0))]  # 打乱第一个维度\u001b[39;00m\n\u001b[0;32m      3\u001b[0m \u001b[38;5;66;03m# 水平翻转\u001b[39;00m\n\u001b[0;32m      4\u001b[0m \u001b[38;5;66;03m# pytorch不支持tensor[::-1]这样的负步长操作，水平翻转可以通过张量索引实现\u001b[39;00m\n\u001b[0;32m      5\u001b[0m \u001b[38;5;66;03m# 假设张量的维度为[N, D, H, W].\u001b[39;00m\n\u001b[1;32m----> 6\u001b[0m tensor \u001b[38;5;241m=\u001b[39m tensor[:,:,:,torch\u001b[38;5;241m.\u001b[39marange(\u001b[43mtensor\u001b[49m\u001b[38;5;241;43m.\u001b[39;49m\u001b[43msize\u001b[49m\u001b[43m(\u001b[49m\u001b[38;5;241;43m3\u001b[39;49m\u001b[43m)\u001b[49m \u001b[38;5;241m-\u001b[39m \u001b[38;5;241m1\u001b[39m, \u001b[38;5;241m-\u001b[39m\u001b[38;5;241m1\u001b[39m, \u001b[38;5;241m-\u001b[39m\u001b[38;5;241m1\u001b[39m)\u001b[38;5;241m.\u001b[39mlong()]\n",
      "\u001b[1;31mIndexError\u001b[0m: Dimension out of range (expected to be in range of [-2, 1], but got 3)"
     ]
    }
   ],
   "source": [
    "# 打乱顺序\n",
    "# tensor = tensor[torch.randperm(tensor.size(0))]  # 打乱第一个维度\n",
    "# 水平翻转\n",
    "# pytorch不支持tensor[::-1]这样的负步长操作，水平翻转可以通过张量索引实现\n",
    "# 假设张量的维度为[N, D, H, W].\n",
    "tensor = tensor[:,:,:,torch.arange(tensor.size(3) - 1, -1, -1).long()]"
   ]
  },
  {
   "cell_type": "code",
   "execution_count": 27,
   "metadata": {},
   "outputs": [
    {
     "ename": "IndexError",
     "evalue": "Dimension out of range (expected to be in range of [-2, 1], but got 3)",
     "output_type": "error",
     "traceback": [
      "\u001b[1;31m---------------------------------------------------------------------------\u001b[0m",
      "\u001b[1;31mIndexError\u001b[0m                                Traceback (most recent call last)",
      "Cell \u001b[1;32mIn[27], line 1\u001b[0m\n\u001b[1;32m----> 1\u001b[0m torch\u001b[38;5;241m.\u001b[39marange(\u001b[43mtensor\u001b[49m\u001b[38;5;241;43m.\u001b[39;49m\u001b[43msize\u001b[49m\u001b[43m(\u001b[49m\u001b[38;5;241;43m3\u001b[39;49m\u001b[43m)\u001b[49m \u001b[38;5;241m-\u001b[39m \u001b[38;5;241m1\u001b[39m, \u001b[38;5;241m-\u001b[39m\u001b[38;5;241m1\u001b[39m, \u001b[38;5;241m-\u001b[39m\u001b[38;5;241m1\u001b[39m)\u001b[38;5;241m.\u001b[39mlong()\n",
      "\u001b[1;31mIndexError\u001b[0m: Dimension out of range (expected to be in range of [-2, 1], but got 3)"
     ]
    }
   ],
   "source": [
    "torch.arange(tensor.size(3) - 1, -1, -1).long()"
   ]
  }
 ],
 "metadata": {
  "kernelspec": {
   "display_name": "Python 3.8.15 ('d2l')",
   "language": "python",
   "name": "python3"
  },
  "language_info": {
   "codemirror_mode": {
    "name": "ipython",
    "version": 3
   },
   "file_extension": ".py",
   "mimetype": "text/x-python",
   "name": "python",
   "nbconvert_exporter": "python",
   "pygments_lexer": "ipython3",
   "version": "3.8.15"
  },
  "orig_nbformat": 4,
  "vscode": {
   "interpreter": {
    "hash": "7d7e54d18da8cde3d3c53b01f1f376c6f78f3ec7ebead671801cebd948480e25"
   }
  }
 },
 "nbformat": 4,
 "nbformat_minor": 2
}
