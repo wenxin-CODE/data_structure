{
 "cells": [
  {
   "cell_type": "code",
   "execution_count": 1,
   "metadata": {},
   "outputs": [],
   "source": [
    "# 设置并创建窗口\n",
    "from tkinter import *\n",
    "root = Tk()\n",
    "root.title(\"my first python window\")\n",
    "root.geometry(\"200x200\")#这里的乘号是小写x\n",
    "root.mainloop()"
   ]
  },
  {
   "cell_type": "markdown",
   "metadata": {},
   "source": [
    "https://www.cnblogs.com/xuhongfei/p/14023230.html"
   ]
  },
  {
   "cell_type": "code",
   "execution_count": 11,
   "metadata": {},
   "outputs": [],
   "source": [
    "# 常用控件及其属性\n",
    "root = Tk()\n",
    "# label是一个控件，类似button\n",
    "# 里面是label的一些属性\n",
    "lb = Label(root,text=\"my first label\",\\\n",
    "           bg='#d3fbfb',\\\n",
    "           fg='red',\\\n",
    "            font=('华文新魏',32),\\\n",
    "            width=20,\\\n",
    "            height=2,\\\n",
    "            relief=SUNKEN)\n",
    "lb.pack()\n",
    "root.mainloop()"
   ]
  },
  {
   "cell_type": "code",
   "execution_count": 8,
   "metadata": {},
   "outputs": [],
   "source": [
    "root = Tk()\n",
    "root.geometry('320x240')\n",
    "\n",
    "msg1 = Message(root,text='''我的水平起始位置相对窗体 0.2，垂直起始位置为绝对位置 80 像素，我的高度是窗体高度的0.4，宽度是200像素''',relief=GROOVE)\n",
    "msg1.place(relx=0.2,y=80,relheight=0.4,width=200)\n",
    "root.mainloop()"
   ]
  },
  {
   "cell_type": "code",
   "execution_count": 10,
   "metadata": {},
   "outputs": [],
   "source": [
    "import tkinter\n",
    "import time\n",
    "\n",
    "def gettime():\n",
    "      timestr = time.strftime(\"%H:%M:%S\") # 获取当前的时间并转化为字符串\n",
    "      lb.configure(text=timestr)   # 重新设置标签文本\n",
    "      root.after(1000,gettime) # 每隔1s调用函数 gettime 自身获取时间\n",
    "\n",
    "root = tkinter.Tk()\n",
    "root.title('时钟')\n",
    "\n",
    "lb = tkinter.Label(root,text='',fg='blue',font=(\"黑体\",80))\n",
    "lb.pack()\n",
    "gettime()\n",
    "root.mainloop()"
   ]
  },
  {
   "cell_type": "code",
   "execution_count": 13,
   "metadata": {},
   "outputs": [],
   "source": [
    "# 使用textvariable实现文本变化\n",
    "import tkinter\n",
    "import time\n",
    "def gettime():\n",
    "    var.set(time.strftime(\"%H:%M:%S\"))\n",
    "    root.after(1000,gettime)\n",
    "\n",
    "root = Tk()\n",
    "root.title('clork')\n",
    "var = tkinter.StringVar()\n",
    "lb = Label(root,textvariable=var,fg='blue',font=(\"黑体\",80))\n",
    "lb.pack()\n",
    "gettime()\n",
    "root.mainloop()"
   ]
  },
  {
   "cell_type": "code",
   "execution_count": 15,
   "metadata": {},
   "outputs": [],
   "source": [
    "import datetime\n",
    "\n",
    "def gettime():\n",
    "    s = str(datetime.datetime.now())+\"\\n\"\n",
    "    txt.insert(END,s)\n",
    "    root.after(1000,gettime)\n",
    "\n",
    "root = Tk()\n",
    "# root.geometry('320x340')#会有一个默认的大小\n",
    "txt = Text(root)\n",
    "txt.pack()\n",
    "gettime()\n",
    "root.mainloop()"
   ]
  },
  {
   "cell_type": "code",
   "execution_count": 21,
   "metadata": {},
   "outputs": [],
   "source": [
    "root = Tk()\n",
    "root.geometry('320x340')\n",
    "txt = Entry(root)\n",
    "txt.get()\n",
    "txt.pack()\n",
    "text = Text(root)\n",
    "text.insert(END,txt.get())\n",
    "root.mainloop()"
   ]
  }
 ],
 "metadata": {
  "kernelspec": {
   "display_name": "d2l",
   "language": "python",
   "name": "python3"
  },
  "language_info": {
   "codemirror_mode": {
    "name": "ipython",
    "version": 3
   },
   "file_extension": ".py",
   "mimetype": "text/x-python",
   "name": "python",
   "nbconvert_exporter": "python",
   "pygments_lexer": "ipython3",
   "version": "3.8.15"
  },
  "orig_nbformat": 4
 },
 "nbformat": 4,
 "nbformat_minor": 2
}
