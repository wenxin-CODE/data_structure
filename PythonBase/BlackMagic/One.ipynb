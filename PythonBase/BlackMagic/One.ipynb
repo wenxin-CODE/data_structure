{
 "cells": [
  {
   "cell_type": "code",
   "execution_count": 1,
   "metadata": {},
   "outputs": [
    {
     "name": "stdout",
     "output_type": "stream",
     "text": [
      "14\n"
     ]
    }
   ],
   "source": [
    "#or表达式中所有值都为真，选第一个；and都为真，选最后一个\n",
    "print((2 or 3 or 4)*(5 and 6 and 7))"
   ]
  },
  {
   "cell_type": "code",
   "execution_count": 2,
   "metadata": {},
   "outputs": [
    {
     "name": "stdout",
     "output_type": "stream",
     "text": [
      "[1, 2, 3, 4, 5, 6]\n"
     ]
    }
   ],
   "source": [
    "#合并列表\n",
    "a=[1,2]\n",
    "b=[3,4]\n",
    "c=[5,6]\n",
    "print(sum((a,b,c),[]))"
   ]
  },
  {
   "cell_type": "code",
   "execution_count": 4,
   "metadata": {},
   "outputs": [
    {
     "name": "stdout",
     "output_type": "stream",
     "text": [
      "{'1': 1, '2': 2, '7': 7, '4': 4, '5': 5}\n"
     ]
    }
   ],
   "source": [
    "#3.6之后字典也是有序的\n",
    "print({str(i):i for i in [1,2,7,4,5]})"
   ]
  },
  {
   "cell_type": "code",
   "execution_count": 7,
   "metadata": {},
   "outputs": [
    {
     "name": "stdout",
     "output_type": "stream",
     "text": [
      "False\n",
      "True\n"
     ]
    }
   ],
   "source": [
    "# [-5,256]是python提前定义好的整数池，不会被垃圾回收\n",
    "a=257\n",
    "b=257\n",
    "print(a is b)\n",
    "c=256\n",
    "d=256\n",
    "print(c is d)"
   ]
  },
  {
   "cell_type": "code",
   "execution_count": 9,
   "metadata": {},
   "outputs": [
    {
     "name": "stdout",
     "output_type": "stream",
     "text": [
      "True\n"
     ]
    }
   ],
   "source": [
    "# python对字符串有intern机制，就是把字符串放在储蓄池中，所以不能修改\n",
    "# 但要求字符串中不包含空格、长度不超过20\n",
    "s1=\"gello\"\n",
    "s2='gello'\n",
    "print(s1 is s2)"
   ]
  },
  {
   "cell_type": "markdown",
   "metadata": {},
   "source": [
    "1、apt安装在dist-packages下，pip安装在site-packages下\n",
    "2、argument表示实参，parameter表示形参\n",
    "3、文件头部加#!/usr/bin/python，运行文件是不用python train.py；直接train.py\n",
    "4、如果nally里有显式的return,那么这个return会直接覆盖try里的return,而如果finally里没有显式的return,那么try里的return仍然有效。\n",
    "5、python2中，数值永远小于字符串；python3不可以比较"
   ]
  },
  {
   "cell_type": "code",
   "execution_count": 11,
   "metadata": {},
   "outputs": [
    {
     "name": "stdout",
     "output_type": "stream",
     "text": [
      "hello python\n",
      "None\n"
     ]
    }
   ],
   "source": [
    "# 函数没有return，隐式的返回None\n",
    "def fun():\n",
    "    print(\"hello python\")\n",
    "\n",
    "a = fun()\n",
    "print(a)\n"
   ]
  },
  {
   "cell_type": "code",
   "execution_count": 12,
   "metadata": {},
   "outputs": [
    {
     "name": "stdout",
     "output_type": "stream",
     "text": [
      "finally\n"
     ]
    },
    {
     "data": {
      "text/plain": [
       "'try'"
      ]
     },
     "execution_count": 12,
     "metadata": {},
     "output_type": "execute_result"
    }
   ],
   "source": [
    "def func():\n",
    "    try:\n",
    "        return 'try'\n",
    "    finally:\n",
    "        print('finally')\n",
    "\n",
    "func()"
   ]
  }
 ],
 "metadata": {
  "kernelspec": {
   "display_name": "d2l",
   "language": "python",
   "name": "python3"
  },
  "language_info": {
   "codemirror_mode": {
    "name": "ipython",
    "version": 3
   },
   "file_extension": ".py",
   "mimetype": "text/x-python",
   "name": "python",
   "nbconvert_exporter": "python",
   "pygments_lexer": "ipython3",
   "version": "3.8.15"
  }
 },
 "nbformat": 4,
 "nbformat_minor": 2
}
