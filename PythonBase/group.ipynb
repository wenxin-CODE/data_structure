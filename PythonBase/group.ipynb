{
 "metadata": {
  "language_info": {
   "codemirror_mode": {
    "name": "ipython",
    "version": 3
   },
   "file_extension": ".py",
   "mimetype": "text/x-python",
   "name": "python",
   "nbconvert_exporter": "python",
   "pygments_lexer": "ipython3",
   "version": "3.7.5-final"
  },
  "orig_nbformat": 2,
  "kernelspec": {
   "name": "python3",
   "language": "python",
   "display_name": "Python 3 (ipykernel)"
  }
 },
 "nbformat": 4,
 "nbformat_minor": 2,
 "cells": [
  {
   "cell_type": "code",
   "execution_count": 1,
   "metadata": {},
   "outputs": [],
   "source": [
    "# 数据的聚合&分组运算\n",
    "from pandas import *\n",
    "import numpy as np"
   ]
  },
  {
   "cell_type": "code",
   "execution_count": 2,
   "metadata": {},
   "outputs": [
    {
     "name": "stdout",
     "output_type": "stream",
     "text": [
      "a one\n",
      "============\n",
      "  key1 key2     data1     data2\n",
      "0    a  one  0.057374  0.883063\n",
      "4    a  one -0.509164  0.478364\n",
      "a two\n",
      "============\n",
      "  key1 key2     data1     data2\n",
      "1    a  two -0.458559  0.270633\n",
      "b one\n",
      "============\n",
      "  key1 key2     data1     data2\n",
      "2    b  one  1.465215 -1.403811\n",
      "b two\n",
      "============\n",
      "  key1 key2     data1     data2\n",
      "3    b  two  1.682756  1.183174\n",
      "+++++++++++++++++++++++\n",
      "{'a':   key1 key2     data1     data2\n",
      "0    a  one  0.057374  0.883063\n",
      "1    a  two -0.458559  0.270633\n",
      "4    a  one -0.509164  0.478364, 'b':   key1 key2     data1     data2\n",
      "2    b  one  1.465215 -1.403811\n",
      "3    b  two  1.682756  1.183174}\n"
     ]
    }
   ],
   "source": [
    "df = DataFrame({\n",
    "    'key1':['a','a','b','b','a'],\n",
    "    'key2':['one','two','one','two','one'],\n",
    "    'data1':np.random.randn(5),\n",
    "    'data2':np.random.randn(5)\n",
    "})\n",
    "# All arrays must be of the same length\n",
    "# print(df)\n",
    "grouped = df['data1'].groupby(df['key1'])\n",
    "grouped.mean()#求每组平均值\n",
    "\n",
    "# 传入两个键进行分组，得到层次化索引\n",
    "# 用来分组的键可以是任意长度的数组\n",
    "menas = df['data2'].groupby([df['key1'],df['key2']]).mean()\n",
    "# print(menas)\n",
    "\n",
    "# 输出分组后的元素\n",
    "for (k1,k2),group in df.groupby(['key1','key2']):\n",
    "    print(k1,k2)\n",
    "    print(\"============\")\n",
    "    print(group)\n",
    "\n",
    "# 转成字典\n",
    "print(\"+++++++++++++++++++++++\")\n",
    "pieces = dict(list(df.groupby('key1')))\n",
    "print(pieces)"
   ]
  },
  {
   "cell_type": "code",
   "execution_count": 4,
   "metadata": {},
   "outputs": [
    {
     "name": "stdout",
     "output_type": "stream",
     "text": [
      "            blue       red\n",
      "Joe     0.155346 -0.246243\n",
      "Steve  -1.852219 -0.159132\n",
      "Wes    -0.062567 -1.474921\n",
      "Jim     0.755704  1.506203\n",
      "Travis -1.642619 -0.835089\n"
     ]
    }
   ],
   "source": [
    "# 通过字典进行分组\n",
    "people = DataFrame(\n",
    "    np.random.randn(5,5),\n",
    "    columns=['a','b','c','d','e'],\n",
    "    index=['Joe','Steve','Wes','Jim','Travis']\n",
    ")\n",
    "# people.iloc[2:3,['b','c']] = np.nan\n",
    "mapping = {\n",
    "    'a':'red','b':'red','c':'blue',\n",
    "    'd':'blue','e':'red','f':'orange'\n",
    "}\n",
    "\n",
    "by_column = people.groupby(mapping,axis=1)\n",
    "print(by_column.sum())"
   ]
  },
  {
   "cell_type": "code",
<<<<<<< HEAD
   "execution_count": 3,
=======
   "execution_count": 2,
   "metadata": {},
   "outputs": [
    {
     "output_type": "stream",
     "name": "stdout",
     "text": [
      "<pandas.core.groupby.generic.DataFrameGroupBy object at 0x000001B65B586808>\n=================\nkey1\na   -0.068807\nb    1.398907\nName: data1, dtype: float64\n"
     ]
    }
   ],
   "source": [
    "df = DataFrame({\n",
    "    'key1':['a','a','b','b','a'],\n",
    "    'key2':['one','two','one','two','one'],\n",
    "    'data1':np.random.randn(5),\n",
    "    'data2':np.random.randn(5)\n",
    "})\n",
    "grouped = df.groupby(\"key1\")\n",
    "print(grouped)\n",
    "print(\"=================\")\n",
    "print(grouped['data1'].quantile(0.9))\n",
    "# 分位数（Quantile），亦称分位点，是指将一个随机变量的概率分布范围分为几个等份的数值点\n",
    "# groupby优化方法P273"
   ]
  },
  {
   "cell_type": "code",
   "execution_count": 7,
   "metadata": {},
   "outputs": [
    {
     "output_type": "stream",
     "name": "stdout",
     "text": [
      "                   mean       std  peak_to_peak\nsex    smoker                                  \nFemale No      2.592593  1.073146             5\n       Yes     2.242424  0.613917             3\nMale   No      2.711340  0.989094             4\n       Yes     2.500000  0.892530             4\n========================\n      sex smoker  total_bill       tip      size\n0  Female     No   18.105185  2.773519  2.592593\n1  Female    Yes   17.977879  2.931515  2.242424\n2    Male     No   19.791237  3.113402  2.711340\n3    Male    Yes   22.284500  3.051167  2.500000\n"
     ]
    }
   ],
   "source": [
    "def peak_to_peak(arr):\n",
    "    return arr.max()-arr.min()\n",
    "\n",
    "tips = read_csv('E:\\微软下载\\PythonForDataAnalysis-master\\ch08/tips.csv')\n",
    "grouped = tips.groupby(['sex','smoker'])\n",
    "grouped_pct = grouped['size']\n",
    "print(grouped_pct.agg(['mean','std',peak_to_peak]))\n",
    "# 传入一组函数或函数名，结果的列以相应的函数命名\n",
    "print(\"========================\")\n",
    "# 以无索引方式返回聚合数据\n",
    "print(tips.groupby(['sex','smoker'],as_index=False).mean())"
   ]
  },
  {
   "cell_type": "code",
   "execution_count": 9,
   "metadata": {},
   "outputs": [
    {
     "output_type": "error",
     "ename": "AttributeError",
     "evalue": "'function' object has no attribute 'add_prefix'",
     "traceback": [
      "\u001b[1;31m---------------------------------------------------------------------------\u001b[0m",
      "\u001b[1;31mAttributeError\u001b[0m                            Traceback (most recent call last)",
      "\u001b[1;32m~\\AppData\\Local\\Temp/ipykernel_10468/2512606250.py\u001b[0m in \u001b[0;36m<module>\u001b[1;34m\u001b[0m\n\u001b[1;32m----> 1\u001b[1;33m \u001b[0mk1_means\u001b[0m \u001b[1;33m=\u001b[0m \u001b[0mdf\u001b[0m\u001b[1;33m.\u001b[0m\u001b[0mgroupby\u001b[0m\u001b[1;33m(\u001b[0m\u001b[1;34m'key1'\u001b[0m\u001b[1;33m)\u001b[0m\u001b[1;33m.\u001b[0m\u001b[0mmean\u001b[0m\u001b[1;33m.\u001b[0m\u001b[0madd_prefix\u001b[0m\u001b[1;33m(\u001b[0m\u001b[1;34m'mean_'\u001b[0m\u001b[1;33m)\u001b[0m\u001b[1;33m\u001b[0m\u001b[1;33m\u001b[0m\u001b[0m\n\u001b[0m\u001b[0;32m      2\u001b[0m \u001b[0mprint\u001b[0m\u001b[1;33m(\u001b[0m\u001b[0mk1_means\u001b[0m\u001b[1;33m)\u001b[0m\u001b[1;33m\u001b[0m\u001b[1;33m\u001b[0m\u001b[0m\n",
      "\u001b[1;31mAttributeError\u001b[0m: 'function' object has no attribute 'add_prefix'"
     ]
    }
   ],
   "source": [
    "k1_means = df.groupby('key1').mean.add_prefix('mean_')\n",
    "print(k1_means)"
   ]
  },
  {
   "cell_type": "code",
   "execution_count": null,
>>>>>>> 738c54082f1b8e69e5378874ed0303b6fb6bd5d6
   "metadata": {},
   "outputs": [],
   "source": []
  }
 ]
}